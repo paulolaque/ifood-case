{
 "cells": [
  {
   "cell_type": "markdown",
   "metadata": {
    "application/vnd.databricks.v1+cell": {
     "cellMetadata": {
      "byteLimit": 2048000,
      "rowLimit": 10000
     },
     "inputWidgets": {},
     "nuid": "35a6cc03-765d-42d5-9638-128063d14c3f",
     "showTitle": false,
     "tableResultSettingsMap": {},
     "title": ""
    }
   },
   "source": [
    "# Modelagem de Dados\n",
    "Este notebook pertence ao projeto: Case Téc­ni­co Data Sci­en­ce - iFo­od acessível em \\\n",
    "https://github.com/paulolaque/ifood-case.git"
   ]
  },
  {
   "cell_type": "markdown",
   "metadata": {
    "application/vnd.databricks.v1+cell": {
     "cellMetadata": {
      "byteLimit": 2048000,
      "rowLimit": 10000
     },
     "inputWidgets": {},
     "nuid": "9d538d9d-4c3f-40e7-9b52-cf51628d9294",
     "showTitle": false,
     "tableResultSettingsMap": {},
     "title": ""
    }
   },
   "source": [
    "## Procedimentos iniciais"
   ]
  },
  {
   "cell_type": "markdown",
   "metadata": {
    "application/vnd.databricks.v1+cell": {
     "cellMetadata": {
      "byteLimit": 2048000,
      "rowLimit": 10000
     },
     "inputWidgets": {},
     "nuid": "6b57f751-92f8-45f8-bccf-a8eac2375fb3",
     "showTitle": false,
     "tableResultSettingsMap": {},
     "title": ""
    }
   },
   "source": [
    "### Importação de bibliotecas"
   ]
  },
  {
   "cell_type": "code",
   "execution_count": 1,
   "metadata": {
    "application/vnd.databricks.v1+cell": {
     "cellMetadata": {
      "byteLimit": 2048000,
      "rowLimit": 10000
     },
     "inputWidgets": {},
     "nuid": "3f85f4cb-4c62-44f7-82d8-3c4cdc45c47b",
     "showTitle": false,
     "tableResultSettingsMap": {},
     "title": ""
    }
   },
   "outputs": [
    {
     "name": "stderr",
     "output_type": "stream",
     "text": [
      "25/04/17 18:50:31 WARN Utils: Your hostname, codespaces-257223 resolves to a loopback address: 127.0.0.1; using 10.0.3.150 instead (on interface eth0)\n",
      "25/04/17 18:50:31 WARN Utils: Set SPARK_LOCAL_IP if you need to bind to another address\n",
      "Setting default log level to \"WARN\".\n",
      "To adjust logging level use sc.setLogLevel(newLevel). For SparkR, use setLogLevel(newLevel).\n",
      "25/04/17 18:50:31 WARN NativeCodeLoader: Unable to load native-hadoop library for your platform... using builtin-java classes where applicable\n",
      "25/04/17 18:50:32 WARN Utils: Service 'SparkUI' could not bind on port 4040. Attempting port 4041.\n"
     ]
    }
   ],
   "source": [
    "import os\n",
    "import random\n",
    "import matplotlib.pyplot as plt\n",
    "import seaborn as sns\n",
    "import pandas as pd\n",
    "\n",
    "# Este notebook executa em pyspark, favor instalar caso necessário\n",
    "try:\n",
    "    from pyspark.sql import SparkSession\n",
    "    from pyspark.sql.functions import col, when, collect_list, explode, struct, lit, max as spark_max\n",
    "    from pyspark.sql.window import Window\n",
    "    from pyspark.ml.feature import StringIndexer, VectorAssembler\n",
    "    from pyspark.ml.classification import RandomForestClassifier\n",
    "    from pyspark.ml.evaluation import BinaryClassificationEvaluator\n",
    "    from pyspark.ml.tuning import CrossValidator, ParamGridBuilder\n",
    "    from pyspark.ml.evaluation import BinaryClassificationEvaluator\n",
    "    from pyspark.sql.functions import monotonically_increasing_id\n",
    "\n",
    "except ImportError:\n",
    "    print(\"PySpark não está instalado. Instale com: pip install pyspark\")\n",
    "    sys.exit(1)\n",
    "\n",
    "spark = SparkSession.builder.getOrCreate()"
   ]
  },
  {
   "cell_type": "markdown",
   "metadata": {
    "application/vnd.databricks.v1+cell": {
     "cellMetadata": {
      "byteLimit": 2048000,
      "rowLimit": 10000
     },
     "inputWidgets": {},
     "nuid": "dbea78a3-72c1-41b9-9439-b1868f3543ce",
     "showTitle": false,
     "tableResultSettingsMap": {},
     "title": ""
    }
   },
   "source": [
    "### Configuração de diretórios"
   ]
  },
  {
   "cell_type": "code",
   "execution_count": 2,
   "metadata": {
    "application/vnd.databricks.v1+cell": {
     "cellMetadata": {
      "byteLimit": 2048000,
      "rowLimit": 10000
     },
     "inputWidgets": {},
     "nuid": "30164f17-406e-400c-9c5f-2e2af4393d8a",
     "showTitle": false,
     "tableResultSettingsMap": {},
     "title": ""
    }
   },
   "outputs": [],
   "source": [
    "# Detectar se está rodando no Databricks, pois o padrão de diretórios podem ser diferentes de uma máquina local\n",
    "running_in_databricks = os.path.exists(\"/databricks/driver\")\n",
    "\n",
    "# Ajusta o caminho raiz do projeto\n",
    "if running_in_databricks:\n",
    "    project_root = \"/dbfs\" + os.getcwd().split(\"/notebooks\")[0]  # raiz do workspace em DBFSpara Databricks\n",
    "else:\n",
    "    project_root = os.path.abspath(\"..\")  # pasta acima de notebooks/\n",
    "\n",
    "# Cria string de diretório\n",
    "parquet_path_transformed = os.path.join(project_root, \"data\", \"processed\", \"unificado_transformed.parquet\")\n",
    "parquet_path = os.path.join(project_root, \"data\", \"processed\", \"unificado.parquet\")"
   ]
  },
  {
   "cell_type": "markdown",
   "metadata": {
    "application/vnd.databricks.v1+cell": {
     "cellMetadata": {
      "byteLimit": 2048000,
      "rowLimit": 10000
     },
     "inputWidgets": {},
     "nuid": "8b00c173-ae4a-4f4b-8291-b4a8a9d35083",
     "showTitle": false,
     "tableResultSettingsMap": {},
     "title": ""
    }
   },
   "source": [
    "## Carregamento e Leitura dos Dados"
   ]
  },
  {
   "cell_type": "code",
   "execution_count": 3,
   "metadata": {
    "application/vnd.databricks.v1+cell": {
     "cellMetadata": {
      "byteLimit": 2048000,
      "rowLimit": 10000
     },
     "inputWidgets": {},
     "nuid": "7aa4256f-521d-44a7-9bba-a8e58e6dbd8f",
     "showTitle": false,
     "tableResultSettingsMap": {},
     "title": ""
    }
   },
   "outputs": [
    {
     "name": "stderr",
     "output_type": "stream",
     "text": [
      "                                                                                \r"
     ]
    },
    {
     "name": "stdout",
     "output_type": "stream",
     "text": [
      "root\n",
      " |-- account_id: string (nullable = true)\n",
      " |-- offer_id: string (nullable = true)\n",
      " |-- time_since_test_start: double (nullable = true)\n",
      " |-- event: string (nullable = true)\n",
      " |-- amount: double (nullable = true)\n",
      " |-- reward: double (nullable = true)\n",
      " |-- amount_is_null: integer (nullable = true)\n",
      " |-- reward_is_null: integer (nullable = true)\n",
      " |-- age: long (nullable = true)\n",
      " |-- credit_card_limit: double (nullable = true)\n",
      " |-- gender: string (nullable = true)\n",
      " |-- credit_card_limit_is_null: integer (nullable = true)\n",
      " |-- discount_value: long (nullable = true)\n",
      " |-- duration: double (nullable = true)\n",
      " |-- min_value: long (nullable = true)\n",
      " |-- offer_type: string (nullable = true)\n",
      " |-- channel_mobile: integer (nullable = true)\n",
      " |-- channel_email: integer (nullable = true)\n",
      " |-- channel_social: integer (nullable = true)\n",
      " |-- channel_web: integer (nullable = true)\n",
      " |-- is_offer_id_null: integer (nullable = true)\n",
      " |-- registered_on_date: date (nullable = true)\n",
      " |-- dias_desde_registro: integer (nullable = true)\n",
      " |-- ano_registro: integer (nullable = true)\n",
      " |-- mes_registro: integer (nullable = true)\n",
      " |-- semana_registro: integer (nullable = true)\n",
      " |-- offer_window_end: double (nullable = true)\n",
      " |-- converted: integer (nullable = true)\n",
      "\n"
     ]
    }
   ],
   "source": [
    "# Carrega os dados processados\n",
    "offers = spark.read.parquet(parquet_path_transformed)\n",
    "df = spark.read.parquet(parquet_path)\n",
    "offers.printSchema()"
   ]
  },
  {
   "cell_type": "markdown",
   "metadata": {
    "application/vnd.databricks.v1+cell": {
     "cellMetadata": {},
     "inputWidgets": {},
     "nuid": "92d80fb4-62b1-4ef0-a4c1-1c1ddf0bb211",
     "showTitle": false,
     "tableResultSettingsMap": {},
     "title": ""
    }
   },
   "source": [
    "## EDA"
   ]
  },
  {
   "cell_type": "code",
   "execution_count": 4,
   "metadata": {
    "application/vnd.databricks.v1+cell": {
     "cellMetadata": {
      "byteLimit": 2048000,
      "rowLimit": 10000
     },
     "inputWidgets": {},
     "nuid": "29703c42-adae-4338-a810-e2cd92b9eb58",
     "showTitle": false,
     "tableResultSettingsMap": {},
     "title": ""
    }
   },
   "outputs": [
    {
     "name": "stdout",
     "output_type": "stream",
     "text": [
      "root\n",
      " |-- account_id: string (nullable = true)\n",
      " |-- offer_id: string (nullable = true)\n",
      " |-- time_since_test_start: double (nullable = true)\n",
      " |-- event: string (nullable = true)\n",
      " |-- amount: double (nullable = true)\n",
      " |-- reward: double (nullable = true)\n",
      " |-- amount_is_null: integer (nullable = true)\n",
      " |-- reward_is_null: integer (nullable = true)\n",
      " |-- age: long (nullable = true)\n",
      " |-- credit_card_limit: double (nullable = true)\n",
      " |-- gender: string (nullable = true)\n",
      " |-- credit_card_limit_is_null: integer (nullable = true)\n",
      " |-- discount_value: long (nullable = true)\n",
      " |-- duration: double (nullable = true)\n",
      " |-- min_value: long (nullable = true)\n",
      " |-- offer_type: string (nullable = true)\n",
      " |-- channel_mobile: integer (nullable = true)\n",
      " |-- channel_email: integer (nullable = true)\n",
      " |-- channel_social: integer (nullable = true)\n",
      " |-- channel_web: integer (nullable = true)\n",
      " |-- is_offer_id_null: integer (nullable = true)\n",
      " |-- registered_on_date: date (nullable = true)\n",
      " |-- dias_desde_registro: integer (nullable = true)\n",
      " |-- ano_registro: integer (nullable = true)\n",
      " |-- mes_registro: integer (nullable = true)\n",
      " |-- semana_registro: integer (nullable = true)\n",
      " |-- offer_window_end: double (nullable = true)\n",
      " |-- converted: integer (nullable = true)\n",
      "\n"
     ]
    },
    {
     "name": "stderr",
     "output_type": "stream",
     "text": [
      "25/04/17 18:50:37 WARN SparkStringUtils: Truncated the string representation of a plan since it was too large. This behavior can be adjusted by setting 'spark.sql.debug.maxToStringFields'.\n"
     ]
    },
    {
     "name": "stdout",
     "output_type": "stream",
     "text": [
      "+--------------------+--------------------+---------------------+--------------+------+------+--------------+--------------+---+-----------------+------+-------------------------+--------------+--------+---------+-------------+--------------+-------------+--------------+-----------+----------------+------------------+-------------------+------------+------------+---------------+----------------+---------+\n",
      "|          account_id|            offer_id|time_since_test_start|         event|amount|reward|amount_is_null|reward_is_null|age|credit_card_limit|gender|credit_card_limit_is_null|discount_value|duration|min_value|   offer_type|channel_mobile|channel_email|channel_social|channel_web|is_offer_id_null|registered_on_date|dias_desde_registro|ano_registro|mes_registro|semana_registro|offer_window_end|converted|\n",
      "+--------------------+--------------------+---------------------+--------------+------+------+--------------+--------------+---+-----------------+------+-------------------------+--------------+--------+---------+-------------+--------------+-------------+--------------+-----------+----------------+------------------+-------------------+------------+------------+---------------+----------------+---------+\n",
      "|a6937b83abe649b38...|9b98b8c7a33c4b65b...|                  0.0|offer received|   0.0|   0.0|             1|             1| 23|          34000.0|     M|                        0|             5|     7.0|        5|         bogo|             1|            1|             0|          1|               0|        2017-09-24|                305|        2017|           9|             38|             7.0|        0|\n",
      "|3add99f440924505b...|9b98b8c7a33c4b65b...|                  7.0|offer received|   0.0|   0.0|             1|             1| 72|         115000.0|     F|                        0|             5|     7.0|        5|         bogo|             1|            1|             0|          1|               0|        2016-07-21|                735|        2016|           7|             29|            14.0|        1|\n",
      "|449998edcac44f3b8...|2298d6c36e964ae4a...|                  7.0|offer received|   0.0|   0.0|             1|             1| 46|          48000.0|     M|                        0|             3|     7.0|        7|     discount|             1|            1|             1|          1|               0|        2018-06-30|                 26|        2018|           6|             26|            14.0|        1|\n",
      "|565001cd51f84213b...|5a8bc65990b245e5a...|                 17.0|offer received|   0.0|   0.0|             1|             1| 25|          62000.0|     F|                        0|             0|     3.0|        0|informational|             1|            1|             1|          0|               0|        2017-09-02|                327|        2017|           9|             35|            20.0|        1|\n",
      "|76ec013980994d9d9...|4d5c57ea9a6940dd8...|                 21.0|offer received|   0.0|   0.0|             1|             1| 54|          38000.0|     M|                        0|            10|     5.0|       10|         bogo|             1|            1|             1|          1|               0|        2013-08-28|               1793|        2013|           8|             35|            26.0|        1|\n",
      "+--------------------+--------------------+---------------------+--------------+------+------+--------------+--------------+---+-----------------+------+-------------------------+--------------+--------+---------+-------------+--------------+-------------+--------------+-----------+----------------+------------------+-------------------+------------+------------+---------------+----------------+---------+\n",
      "only showing top 5 rows\n",
      "\n",
      "Total de linhas: 76277\n",
      "Total de colunas: 28\n"
     ]
    },
    {
     "name": "stderr",
     "output_type": "stream",
     "text": [
      "                                                                                \r"
     ]
    },
    {
     "name": "stdout",
     "output_type": "stream",
     "text": [
      "+----------+--------+---------------------+-----+------+------+--------------+--------------+---+-----------------+------+-------------------------+--------------+--------+---------+----------+--------------+-------------+--------------+-----------+----------------+------------------+-------------------+------------+------------+---------------+----------------+---------+\n",
      "|account_id|offer_id|time_since_test_start|event|amount|reward|amount_is_null|reward_is_null|age|credit_card_limit|gender|credit_card_limit_is_null|discount_value|duration|min_value|offer_type|channel_mobile|channel_email|channel_social|channel_web|is_offer_id_null|registered_on_date|dias_desde_registro|ano_registro|mes_registro|semana_registro|offer_window_end|converted|\n",
      "+----------+--------+---------------------+-----+------+------+--------------+--------------+---+-----------------+------+-------------------------+--------------+--------+---------+----------+--------------+-------------+--------------+-----------+----------------+------------------+-------------------+------------+------------+---------------+----------------+---------+\n",
      "|0         |0       |0                    |0    |0     |0     |0             |0             |0  |0                |0     |0                        |0             |0       |0        |0         |0             |0            |0             |0          |0               |0                 |0                  |0           |0           |0              |0               |0        |\n",
      "+----------+--------+---------------------+-----+------+------+--------------+--------------+---+-----------------+------+-------------------------+--------------+--------+---------+----------+--------------+-------------+--------------+-----------+----------------+------------------+-------------------+------------+------------+---------------+----------------+---------+\n",
      "\n",
      "+---------+-----+\n",
      "|converted|count|\n",
      "+---------+-----+\n",
      "|        1|59952|\n",
      "|        0|16325|\n",
      "+---------+-----+\n",
      "\n",
      "+-------+---------------------+------+------+-----------------+------------------+------------------+-----------------+-----------------+-------------------+------------------+\n",
      "|summary|time_since_test_start|amount|reward|              age| credit_card_limit|    discount_value|         duration|        min_value|dias_desde_registro|  offer_window_end|\n",
      "+-------+---------------------+------+------+-----------------+------------------+------------------+-----------------+-----------------+-------------------+------------------+\n",
      "|  count|                76277| 76277| 76277|            76277|             76277|             76277|            76277|            76277|              76277|             76277|\n",
      "|   mean|    13.85747997430418|   0.0|   0.0|62.52445691361747| 56993.30073285525|4.2016072997102665|6.503703606591764|7.707723166878614|  517.0358299356293|20.361183580895943|\n",
      "| stddev|     8.18706451617464|   0.0|   0.0|26.76261974542683|29751.548587538862|3.3988876089311706|2.201543979932807|5.538202959166218|  411.5752574262977| 8.472094371204163|\n",
      "|    min|                  0.0|   0.0|   0.0|               18|               0.0|                 0|              3.0|                0|                  0|               3.0|\n",
      "|    max|                 24.0|   0.0|   0.0|              118|          120000.0|                10|             10.0|               20|               1823|              34.0|\n",
      "+-------+---------------------+------+------+-----------------+------------------+------------------+-----------------+-----------------+-------------------+------------------+\n",
      "\n",
      "+--------------+-------------+--------------+-----------+\n",
      "|channel_mobile|channel_email|channel_social|channel_web|\n",
      "+--------------+-------------+--------------+-----------+\n",
      "|         68609|        76277|         45683|      61001|\n",
      "+--------------+-------------+--------------+-----------+\n",
      "\n",
      "+--------------+---------+-----+\n",
      "|channel_mobile|converted|count|\n",
      "+--------------+---------+-----+\n",
      "|             0|        0| 1161|\n",
      "|             0|        1| 6507|\n",
      "|             1|        0|15164|\n",
      "|             1|        1|53445|\n",
      "+--------------+---------+-----+\n",
      "\n",
      "+-------------+---------+-----+\n",
      "|   offer_type|converted|count|\n",
      "+-------------+---------+-----+\n",
      "|         bogo|        0| 5977|\n",
      "|         bogo|        1|24522|\n",
      "|     discount|        0| 4596|\n",
      "|     discount|        1|25947|\n",
      "|informational|        0| 5752|\n",
      "|informational|        1| 9483|\n",
      "+-------------+---------+-----+\n",
      "\n",
      "+------------+---------+-----+\n",
      "|faixa_etaria|converted|count|\n",
      "+------------+---------+-----+\n",
      "|       25-34|        0|  892|\n",
      "|       25-34|        1| 5336|\n",
      "|       35-44|        0| 1477|\n",
      "|       35-44|        1| 6904|\n",
      "|         45+|        0|13404|\n",
      "|         45+|        1|44326|\n",
      "|         <25|        0|  552|\n",
      "|         <25|        1| 3386|\n",
      "+------------+---------+-----+\n",
      "\n"
     ]
    }
   ],
   "source": [
    "from pyspark.sql import functions as F\n",
    "\n",
    "#Além da estrutura da tabela vamos focar nas conversões, a tabela com informações a nivel de transações é a df\n",
    "\n",
    "# Visão geral\n",
    "offers.printSchema()\n",
    "offers.show(5)\n",
    "\n",
    "# Número de linhas e colunas\n",
    "print(f\"Total de linhas: {offers.count()}\")\n",
    "print(f\"Total de colunas: {len(offers.columns)}\")\n",
    "\n",
    "# Verificar valores nulos\n",
    "offers.select([\n",
    "    F.count(F.when(F.col(c).isNull(), c)).alias(c)\n",
    "    for c in offers.columns\n",
    "]).show(truncate=False)\n",
    "\n",
    "\n",
    "# Distribuição de conversão\n",
    "offers.groupBy(\"converted\").count().show()\n",
    "\n",
    "# Estatísticas de colunas numéricas\n",
    "numeric_cols = [\"time_since_test_start\", \"amount\", \"reward\", \"age\", \"credit_card_limit\", \n",
    "                \"discount_value\", \"duration\", \"min_value\", \"dias_desde_registro\", \"offer_window_end\"]\n",
    "offers.select(numeric_cols).describe().show()\n",
    "\n",
    "\n",
    "\n",
    "# Canais utilizados\n",
    "channel_cols = [\"channel_mobile\", \"channel_email\", \"channel_social\", \"channel_web\"]\n",
    "offers.select([F.sum(F.col(c)).alias(c) for c in channel_cols]).show()\n",
    "\n",
    "# Conversão por canal (exemplo para mobile)\n",
    "offers.groupBy(\"channel_mobile\", \"converted\").count().orderBy(\"channel_mobile\", \"converted\").show()\n",
    "\n",
    "# Conversão por tipo de oferta\n",
    "offers.groupBy(\"offer_type\", \"converted\").count().orderBy(\"offer_type\", \"converted\").show()\n",
    "\n",
    "# Conversão por faixa etária\n",
    "offers.withColumn(\"faixa_etaria\", F.when(F.col(\"age\") < 25, \"<25\")\n",
    "                                   .when((F.col(\"age\") >= 25) & (F.col(\"age\") < 35), \"25-34\")\n",
    "                                   .when((F.col(\"age\") >= 35) & (F.col(\"age\") < 45), \"35-44\")\n",
    "                                   .otherwise(\"45+\")) \\\n",
    "      .groupBy(\"faixa_etaria\", \"converted\").count().orderBy(\"faixa_etaria\", \"converted\").show()"
   ]
  },
  {
   "cell_type": "markdown",
   "metadata": {
    "application/vnd.databricks.v1+cell": {
     "cellMetadata": {
      "byteLimit": 2048000,
      "rowLimit": 10000
     },
     "inputWidgets": {},
     "nuid": "343dfbbc-e36b-498c-bafa-ee85a5cc1105",
     "showTitle": false,
     "tableResultSettingsMap": {},
     "title": ""
    }
   },
   "source": [
    "## Transformações Vetoriais"
   ]
  },
  {
   "cell_type": "code",
   "execution_count": 5,
   "metadata": {
    "application/vnd.databricks.v1+cell": {
     "cellMetadata": {
      "byteLimit": 2048000,
      "rowLimit": 10000
     },
     "inputWidgets": {},
     "nuid": "faf4c351-24ff-40c3-96be-a1862f7a714b",
     "showTitle": false,
     "tableResultSettingsMap": {},
     "title": ""
    }
   },
   "outputs": [
    {
     "name": "stderr",
     "output_type": "stream",
     "text": [
      "25/04/17 18:50:47 WARN GarbageCollectionMetrics: To enable non-built-in garbage collector(s) List(G1 Concurrent GC), users should configure it(them) to spark.eventLog.gcMetrics.youngGenerationGarbageCollectors or spark.eventLog.gcMetrics.oldGenerationGarbageCollectors\n",
      "                                                                                \r"
     ]
    }
   ],
   "source": [
    "#  Selecionar colunas para modelagem\n",
    "model_data = offers.select(\n",
    "    \"converted\",\n",
    "    \"offer_type\",\n",
    "    \"min_value\",\n",
    "    \"duration\",\n",
    "    \"discount_value\",\n",
    "    \"age\",\n",
    "    \"credit_card_limit\",\n",
    "    \"gender\",\n",
    "    \"credit_card_limit_is_null\",\n",
    "    \"channel_mobile\",\n",
    "    \"channel_email\",\n",
    "    \"channel_social\",\n",
    "    \"channel_web\",\n",
    "    \"dias_desde_registro\",\n",
    "    \"ano_registro\",\n",
    "    \"mes_registro\",\n",
    "    \"semana_registro\"\n",
    ")\n",
    "\n",
    "# Tratar nulos antes do StringIndexer\n",
    "model_data = model_data.fillna({\n",
    "    \"offer_type\": \"unknown\",\n",
    "    \"gender\": \"unknown\"\n",
    "})\n",
    "\n",
    "# 10. Encoding\n",
    "indexers = [\n",
    "    StringIndexer(inputCol=\"offer_type\", outputCol=\"offer_type_idx\"),\n",
    "    StringIndexer(inputCol=\"gender\", outputCol=\"gender_idx\")\n",
    "]\n",
    "\n",
    "for indexer in indexers:\n",
    "    model_data = indexer.fit(model_data).transform(model_data)\n",
    "\n",
    "# 11. Montar vetor de features\n",
    "assembler = VectorAssembler(\n",
    "    inputCols=[\"offer_type_idx\", \"min_value\", \"duration\", \"discount_value\", \"age\", \"credit_card_limit\", \"gender_idx\",\"credit_card_limit_is_null\",\n",
    "    \"channel_mobile\",\n",
    "    \"channel_email\",\n",
    "    \"channel_social\",\n",
    "    \"channel_web\",\n",
    "    \"dias_desde_registro\",\n",
    "    \"ano_registro\",\n",
    "    \"mes_registro\",\n",
    "    \"semana_registro\"],\n",
    "    outputCol=\"features\"\n",
    ")\n",
    "\n",
    "data = assembler.transform(model_data).select(\"features\", \"converted\")"
   ]
  },
  {
   "cell_type": "markdown",
   "metadata": {
    "application/vnd.databricks.v1+cell": {
     "cellMetadata": {
      "byteLimit": 2048000,
      "rowLimit": 10000
     },
     "inputWidgets": {},
     "nuid": "1afdc637-b37c-428e-aeae-ea87b95fae15",
     "showTitle": false,
     "tableResultSettingsMap": {},
     "title": ""
    }
   },
   "source": [
    "## Treino"
   ]
  },
  {
   "cell_type": "code",
   "execution_count": 6,
   "metadata": {
    "application/vnd.databricks.v1+cell": {
     "cellMetadata": {
      "byteLimit": 2048000,
      "rowLimit": 10000
     },
     "inputWidgets": {},
     "nuid": "e473da84-cbd6-425d-a7a4-566a32051e7b",
     "showTitle": false,
     "tableResultSettingsMap": {},
     "title": ""
    }
   },
   "outputs": [],
   "source": [
    "# Separação Treino teste\n",
    "train, test = data.randomSplit([0.8, 0.2], seed=42)\n",
    "\n",
    "# Modelo base\n",
    "rf = RandomForestClassifier(labelCol=\"converted\", featuresCol=\"features\", seed=42)\n"
   ]
  },
  {
   "cell_type": "markdown",
   "metadata": {
    "application/vnd.databricks.v1+cell": {
     "cellMetadata": {
      "byteLimit": 2048000,
      "rowLimit": 10000
     },
     "inputWidgets": {},
     "nuid": "a180f86e-49e9-40f0-8dee-9b49e5bb03d7",
     "showTitle": false,
     "tableResultSettingsMap": {},
     "title": ""
    }
   },
   "source": [
    "## Tuning do Modelo"
   ]
  },
  {
   "cell_type": "code",
   "execution_count": 7,
   "metadata": {
    "application/vnd.databricks.v1+cell": {
     "cellMetadata": {
      "byteLimit": 2048000,
      "rowLimit": 10000
     },
     "inputWidgets": {},
     "nuid": "4def2eac-bdf1-491d-8d1b-4c66afbbb28e",
     "showTitle": false,
     "tableResultSettingsMap": {},
     "title": ""
    }
   },
   "outputs": [
    {
     "name": "stderr",
     "output_type": "stream",
     "text": [
      "                                                                                \r"
     ]
    },
    {
     "name": "stdout",
     "output_type": "stream",
     "text": [
      "Melhor numTrees: 200\n",
      "Melhor maxDepth: 3\n",
      "Melhor minInstancesPerNode: 2\n"
     ]
    }
   ],
   "source": [
    "# Simulação de Random Search: amostra aleatória de parâmetros\n",
    "n_random = 8  \n",
    "all_params = []\n",
    "\n",
    "for _ in range(n_random):\n",
    "    num_trees = random.choice([20, 50, 100, 200])\n",
    "    max_depth = random.choice([3, 5, 10, 15, 20])\n",
    "    min_instances = random.choice([1, 2, 5])\n",
    "\n",
    "    all_params.append({\n",
    "        rf.numTrees: num_trees,\n",
    "        rf.maxDepth: max_depth,\n",
    "        rf.minInstancesPerNode: min_instances\n",
    "    })\n",
    "\n",
    "# Criar um ParamGridBuilder manualmente\n",
    "grid = ParamGridBuilder()\n",
    "for param_set in all_params:\n",
    "    grid.addGrid(rf.numTrees, [param_set[rf.numTrees]])\n",
    "    grid.addGrid(rf.maxDepth, [param_set[rf.maxDepth]])\n",
    "    grid.addGrid(rf.minInstancesPerNode, [param_set[rf.minInstancesPerNode]])\n",
    "\n",
    "param_grid = grid.build()\n",
    "\n",
    "# Avaliador\n",
    "evaluator = BinaryClassificationEvaluator(labelCol=\"converted\", metricName=\"areaUnderROC\")\n",
    "\n",
    "# CrossValidator\n",
    "cv = CrossValidator(\n",
    "    estimator=rf,\n",
    "    estimatorParamMaps=param_grid,\n",
    "    evaluator=evaluator,\n",
    "    numFolds=3,\n",
    "    parallelism=2,  # Ajuste conforme sua infra\n",
    "    seed=42\n",
    ")\n",
    "\n",
    "# Treinamento com validação cruzada\n",
    "cv_model = cv.fit(data)\n",
    "\n",
    "# Melhor modelo\n",
    "best_model = cv_model.bestModel\n",
    "print(f\"Melhor numTrees: {best_model.getNumTrees}\")\n",
    "print(f\"Melhor maxDepth: {best_model.getOrDefault('maxDepth')}\")\n",
    "print(f\"Melhor minInstancesPerNode: {best_model.getOrDefault('minInstancesPerNode')}\")\n"
   ]
  },
  {
   "cell_type": "markdown",
   "metadata": {
    "application/vnd.databricks.v1+cell": {
     "cellMetadata": {
      "byteLimit": 2048000,
      "rowLimit": 10000
     },
     "inputWidgets": {},
     "nuid": "30b187a4-b0d4-4e45-a622-f52e48a7cd53",
     "showTitle": false,
     "tableResultSettingsMap": {},
     "title": ""
    }
   },
   "source": [
    "## Avaliação"
   ]
  },
  {
   "cell_type": "code",
   "execution_count": 8,
   "metadata": {
    "application/vnd.databricks.v1+cell": {
     "cellMetadata": {
      "byteLimit": 2048000,
      "rowLimit": 10000
     },
     "inputWidgets": {},
     "nuid": "ce03e8df-6ef5-4871-aeb9-506b5c88d5e5",
     "showTitle": false,
     "tableResultSettingsMap": {},
     "title": ""
    }
   },
   "outputs": [
    {
     "name": "stderr",
     "output_type": "stream",
     "text": [
      "                                                                                \r"
     ]
    },
    {
     "name": "stdout",
     "output_type": "stream",
     "text": [
      "AUC: 0.7208\n"
     ]
    }
   ],
   "source": [
    "# AUC do melhor modelo\n",
    "auc = evaluator.evaluate(best_model.transform(data))\n",
    "print(f\"AUC: {auc:.4f}\")"
   ]
  },
  {
   "cell_type": "markdown",
   "metadata": {
    "application/vnd.databricks.v1+cell": {
     "cellMetadata": {
      "byteLimit": 2048000,
      "rowLimit": 10000
     },
     "inputWidgets": {},
     "nuid": "5e70c82a-f474-4273-8170-ccbb6909af59",
     "showTitle": false,
     "tableResultSettingsMap": {},
     "title": ""
    }
   },
   "source": [
    "## Resultado"
   ]
  },
  {
   "cell_type": "code",
   "execution_count": 9,
   "metadata": {
    "application/vnd.databricks.v1+cell": {
     "cellMetadata": {
      "byteLimit": 2048000,
      "rowLimit": 10000
     },
     "inputWidgets": {},
     "nuid": "48c8e5b5-f685-468f-8815-d568215f733e",
     "showTitle": false,
     "tableResultSettingsMap": {},
     "title": ""
    }
   },
   "outputs": [
    {
     "name": "stderr",
     "output_type": "stream",
     "text": [
      "[Stage 158:============================>                            (1 + 1) / 2]\r"
     ]
    },
    {
     "name": "stdout",
     "output_type": "stream",
     "text": [
      "+--------------------------+----------------------+-------------------+\n",
      "|total_expected_conversions|total_expected_revenue|total_expected_cost|\n",
      "+--------------------------+----------------------+-------------------+\n",
      "|         13671.02922310307|     273420.5844620811|  68355.14611552027|\n",
      "+--------------------------+----------------------+-------------------+\n",
      "\n"
     ]
    },
    {
     "name": "stderr",
     "output_type": "stream",
     "text": [
      "                                                                                \r"
     ]
    }
   ],
   "source": [
    "# Dados únicos\n",
    "unique_clients = df.select(\"account_id\", \"age\", \"gender\", \"credit_card_limit\", \n",
    "                           \"credit_card_limit_is_null\", \"dias_desde_registro\", \n",
    "                           \"ano_registro\", \"mes_registro\", \"semana_registro\",\n",
    "                           \"channel_mobile\", \"channel_email\", \"channel_social\", \"channel_web\").distinct()\n",
    "\n",
    "unique_offers = df.select(\"offer_id\", \"offer_type\", \"min_value\", \"duration\", \"discount_value\").dropna().distinct()\n",
    "\n",
    "# Cross join\n",
    "candidates = unique_clients.crossJoin(unique_offers)\n",
    "\n",
    "# Substituir nulos\n",
    "candidates = candidates.fillna({\n",
    "    \"offer_type\": \"unknown\",\n",
    "    \"gender\": \"unknown\"\n",
    "})\n",
    "\n",
    "# Indexadores\n",
    "indexers = [\n",
    "    StringIndexer(inputCol=\"offer_type\", outputCol=\"offer_type_idx\"),\n",
    "    StringIndexer(inputCol=\"gender\", outputCol=\"gender_idx\")\n",
    "]\n",
    "\n",
    "for indexer in indexers:\n",
    "    candidates = indexer.fit(candidates).transform(candidates)\n",
    "\n",
    "# Vetor de features\n",
    "candidate_features = assembler.transform(candidates)\n",
    "\n",
    "from pyspark.sql.functions import udf\n",
    "from pyspark.sql.types import DoubleType\n",
    "\n",
    "predictions = best_model.transform(candidate_features)\n",
    "\n",
    "# Pegar probabilidade positiva\n",
    "get_prob = udf(lambda v: float(v[1]), DoubleType())\n",
    "predictions = predictions.withColumn(\"positive_probability\", get_prob(col(\"probability\")))\n",
    "\n",
    "from pyspark.sql.window import Window\n",
    "from pyspark.sql.functions import row_number\n",
    "\n",
    "windowSpec = Window.partitionBy(\"account_id\").orderBy(col(\"positive_probability\").desc())\n",
    "\n",
    "best_offers = predictions.withColumn(\"rank\", row_number().over(windowSpec)) \\\n",
    "    .filter(col(\"rank\") == 1)\n",
    "\n",
    "from pyspark.sql.functions import col\n",
    "\n",
    "impact = best_offers.withColumn(\"expected_conversion\", col(\"positive_probability\")) \\\n",
    "    .withColumn(\"expected_revenue\", col(\"expected_conversion\") * col(\"min_value\")) \\\n",
    "    .withColumn(\"expected_cost\", col(\"expected_conversion\") * col(\"discount_value\"))\n",
    "\n",
    "impact_summary = impact.agg(\n",
    "    {\"expected_conversion\": \"sum\", \n",
    "     \"expected_revenue\": \"sum\", \n",
    "     \"expected_cost\": \"sum\"}\n",
    ").withColumnRenamed(\"sum(expected_conversion)\", \"total_expected_conversions\") \\\n",
    " .withColumnRenamed(\"sum(expected_revenue)\", \"total_expected_revenue\") \\\n",
    " .withColumnRenamed(\"sum(expected_cost)\", \"total_expected_cost\")\n",
    "\n",
    "impact_summary.show()\n"
   ]
  },
  {
   "cell_type": "markdown",
   "metadata": {
    "application/vnd.databricks.v1+cell": {
     "cellMetadata": {
      "byteLimit": 2048000,
      "rowLimit": 10000
     },
     "inputWidgets": {},
     "nuid": "5b55c35d-a070-4dd8-b546-bd621206a57f",
     "showTitle": false,
     "tableResultSettingsMap": {},
     "title": ""
    }
   },
   "source": [
    "## Visualizações"
   ]
  },
  {
   "cell_type": "markdown",
   "metadata": {
    "application/vnd.databricks.v1+cell": {
     "cellMetadata": {
      "byteLimit": 2048000,
      "rowLimit": 10000
     },
     "inputWidgets": {},
     "nuid": "a1847ce8-3230-4e49-ac9a-b28b3a2ab176",
     "showTitle": false,
     "tableResultSettingsMap": {},
     "title": ""
    }
   },
   "source": [
    "### Feature Importance"
   ]
  },
  {
   "cell_type": "code",
   "execution_count": 10,
   "metadata": {
    "application/vnd.databricks.v1+cell": {
     "cellMetadata": {
      "byteLimit": 2048000,
      "rowLimit": 10000
     },
     "inputWidgets": {},
     "nuid": "0ee77d49-631f-4cbd-b329-c2c5bc9cb445",
     "showTitle": false,
     "tableResultSettingsMap": {},
     "title": ""
    }
   },
   "outputs": [
    {
     "name": "stderr",
     "output_type": "stream",
     "text": [
      "/tmp/ipykernel_75510/1570886449.py:12: FutureWarning: \n",
      "\n",
      "Passing `palette` without assigning `hue` is deprecated and will be removed in v0.14.0. Assign the `y` variable to `hue` and set `legend=False` for the same effect.\n",
      "\n",
      "  sns.barplot(data=importance_df, x=\"importance\", y=\"feature\", palette=\"viridis\")\n"
     ]
    },
    {
     "data": {
      "image/png": "[encoded data removed]",
      "text/plain": [
       "<Figure size 1200x600 with 1 Axes>"
      ]
     },
     "metadata": {},
     "output_type": "display_data"
    },
    {
     "name": "stdout",
     "output_type": "stream",
     "text": [
      "dias_desde_registro: 0.3333\n",
      "min_value: 0.1806\n",
      "offer_type_idx: 0.1700\n",
      "discount_value: 0.1126\n",
      "duration: 0.0968\n",
      "ano_registro: 0.0588\n",
      "credit_card_limit: 0.0319\n",
      "age: 0.0061\n",
      "channel_web: 0.0039\n",
      "credit_card_limit_is_null: 0.0027\n",
      "gender_idx: 0.0015\n",
      "semana_registro: 0.0012\n",
      "mes_registro: 0.0004\n",
      "channel_social: 0.0001\n",
      "channel_mobile: 0.0000\n",
      "channel_email: 0.0000\n"
     ]
    }
   ],
   "source": [
    "#  Obter importância das features\n",
    "importances = best_model.featureImportances\n",
    "feature_names = assembler.getInputCols()\n",
    "feature_importance_list = list(zip(feature_names, importances.toArray()))\n",
    "feature_importance_list = sorted(feature_importance_list, key=lambda x: x[1], reverse=True)\n",
    "\n",
    "#  Criar DataFrame\n",
    "importance_df = pd.DataFrame(feature_importance_list, columns=[\"feature\", \"importance\"])\n",
    "\n",
    "#  Plotar gráfico de barras das importâncias\n",
    "plt.figure(figsize=(12, 6))\n",
    "sns.barplot(data=importance_df, x=\"importance\", y=\"feature\", palette=\"viridis\")\n",
    "plt.title(\"Importância das Features - Modelo Random Forest\")\n",
    "plt.xlabel(\"Importância\")\n",
    "plt.ylabel(\"Features\")\n",
    "plt.tight_layout()\n",
    "plt.show()\n",
    "\n",
    "# Mostrar\n",
    "for name, score in feature_importance_list:\n",
    "    print(f\"{name}: {score:.4f}\")\n",
    "\n"
   ]
  },
  {
   "cell_type": "markdown",
   "metadata": {
    "application/vnd.databricks.v1+cell": {
     "cellMetadata": {
      "byteLimit": 2048000,
      "rowLimit": 10000
     },
     "inputWidgets": {},
     "nuid": "002acfc3-b89c-442a-acb3-5c458b3de261",
     "showTitle": false,
     "tableResultSettingsMap": {},
     "title": ""
    }
   },
   "source": [
    "### Taxas de conversão "
   ]
  },
  {
   "cell_type": "code",
   "execution_count": 11,
   "metadata": {
    "application/vnd.databricks.v1+cell": {
     "cellMetadata": {
      "byteLimit": 2048000,
      "rowLimit": 10000
     },
     "inputWidgets": {},
     "nuid": "e08357f6-afb1-4f35-85ca-00ff75bb1a83",
     "showTitle": false,
     "tableResultSettingsMap": {},
     "title": ""
    }
   },
   "outputs": [
    {
     "name": "stderr",
     "output_type": "stream",
     "text": [
      "/tmp/ipykernel_75510/3510640989.py:7: FutureWarning: \n",
      "\n",
      "Passing `palette` without assigning `hue` is deprecated and will be removed in v0.14.0. Assign the `x` variable to `hue` and set `legend=False` for the same effect.\n",
      "\n",
      "  sns.barplot(data=gender_stats, x=\"gender\", y=\"avg(converted)\", palette=\"coolwarm\")\n"
     ]
    },
    {
     "data": {
      "image/png": "[encoded data removed]",
      "text/plain": [
       "<Figure size 600x400 with 1 Axes>"
      ]
     },
     "metadata": {},
     "output_type": "display_data"
    },
    {
     "name": "stderr",
     "output_type": "stream",
     "text": [
      "/tmp/ipykernel_75510/3510640989.py:21: FutureWarning: \n",
      "\n",
      "Passing `palette` without assigning `hue` is deprecated and will be removed in v0.14.0. Assign the `x` variable to `hue` and set `legend=False` for the same effect.\n",
      "\n",
      "  sns.barplot(data=offer_stats, x=\"offer_type\", y=\"avg(converted)\", palette=\"mako\")\n"
     ]
    },
    {
     "data": {
      "image/png": "[encoded data removed]",
      "text/plain": [
       "<Figure size 800x400 with 1 Axes>"
      ]
     },
     "metadata": {},
     "output_type": "display_data"
    }
   ],
   "source": [
    "# Calcular média de conversão por valor de gender_idx\n",
    "gender_stats = model_data.groupBy(\"gender\", \"gender_idx\").agg({\"converted\": \"mean\"}).toPandas()\n",
    "gender_stats = gender_stats.sort_values(\"gender_idx\")\n",
    "\n",
    "# Plotar\n",
    "plt.figure(figsize=(6, 4))\n",
    "sns.barplot(data=gender_stats, x=\"gender\", y=\"avg(converted)\", palette=\"coolwarm\")\n",
    "plt.title(\"Taxa de Conversão por Gênero\")\n",
    "plt.ylabel(\"Taxa de Conversão Média\")\n",
    "plt.xlabel(\"Gênero\")\n",
    "plt.ylim(0, 1)\n",
    "plt.tight_layout()\n",
    "plt.show()\n",
    "\n",
    "# Calcular média de conversão por offer_type_idx\n",
    "offer_stats = model_data.groupBy(\"offer_type\", \"offer_type_idx\").agg({\"converted\": \"mean\"}).toPandas()\n",
    "offer_stats = offer_stats.sort_values(\"offer_type_idx\")\n",
    "\n",
    "# Plotar\n",
    "plt.figure(figsize=(8, 4))\n",
    "sns.barplot(data=offer_stats, x=\"offer_type\", y=\"avg(converted)\", palette=\"mako\")\n",
    "plt.title(\"Taxa de Conversão por Tipo de Oferta\")\n",
    "plt.ylabel(\"Taxa de Conversão Média\")\n",
    "plt.xlabel(\"Tipo de Oferta\")\n",
    "plt.ylim(0, 1)\n",
    "plt.tight_layout()\n",
    "plt.show()\n"
   ]
  }
 ],
 "metadata": {
  "application/vnd.databricks.v1+notebook": {
   "computePreferences": null,
   "dashboards": [],
   "environmentMetadata": {
    "base_environment": "",
    "environment_version": "1"
   },
   "inputWidgetPreferences": null,
   "language": "python",
   "notebookMetadata": {
    "pythonIndentUnit": 4
   },
   "notebookName": "2_modeling.ipynb",
   "widgets": {}
  },
  "kernelspec": {
   "display_name": "Python 3",
   "language": "python",
   "name": "python3"
  },
  "language_info": {
   "codemirror_mode": {
    "name": "ipython",
    "version": 3
   },
   "file_extension": ".py",
   "mimetype": "text/x-python",
   "name": "python",
   "nbconvert_exporter": "python",
   "pygments_lexer": "ipython3",
   "version": "3.12.1"
  }
 },
 "nbformat": 4,
 "nbformat_minor": 0
}
