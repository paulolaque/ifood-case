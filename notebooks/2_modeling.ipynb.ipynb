{
 "cells": [
  {
   "cell_type": "markdown",
   "metadata": {
    "application/vnd.databricks.v1+cell": {
     "cellMetadata": {
      "byteLimit": 2048000,
      "rowLimit": 10000
     },
     "inputWidgets": {},
     "nuid": "35a6cc03-765d-42d5-9638-128063d14c3f",
     "showTitle": false,
     "tableResultSettingsMap": {},
     "title": ""
    }
   },
   "source": [
    "# Modelagem de Dados\n",
    "Este notebook pertence ao projeto: Case Téc­ni­co Data Sci­en­ce - iFo­od acessível em \\\n",
    "https://github.com/paulolaque/ifood-case.git"
   ]
  },
  {
   "cell_type": "markdown",
   "metadata": {
    "application/vnd.databricks.v1+cell": {
     "cellMetadata": {
      "byteLimit": 2048000,
      "rowLimit": 10000
     },
     "inputWidgets": {},
     "nuid": "9d538d9d-4c3f-40e7-9b52-cf51628d9294",
     "showTitle": false,
     "tableResultSettingsMap": {},
     "title": ""
    }
   },
   "source": [
    "## Procedimentos iniciais"
   ]
  },
  {
   "cell_type": "markdown",
   "metadata": {
    "application/vnd.databricks.v1+cell": {
     "cellMetadata": {
      "byteLimit": 2048000,
      "rowLimit": 10000
     },
     "inputWidgets": {},
     "nuid": "6b57f751-92f8-45f8-bccf-a8eac2375fb3",
     "showTitle": false,
     "tableResultSettingsMap": {},
     "title": ""
    }
   },
   "source": [
    "### Importação de bibliotecas"
   ]
  },
  {
   "cell_type": "code",
   "execution_count": 0,
   "metadata": {
    "application/vnd.databricks.v1+cell": {
     "cellMetadata": {
      "byteLimit": 2048000,
      "rowLimit": 10000
     },
     "inputWidgets": {},
     "nuid": "3f85f4cb-4c62-44f7-82d8-3c4cdc45c47b",
     "showTitle": false,
     "tableResultSettingsMap": {},
     "title": ""
    }
   },
   "outputs": [],
   "source": [
    "import os\n",
    "import random\n",
    "# Este notebook executa em pyspark, favor instalar caso necessário\n",
    "try:\n",
    "    from pyspark.sql import SparkSession\n",
    "    from pyspark.sql.functions import col, when, collect_list, explode, struct, lit, max as spark_max\n",
    "    from pyspark.sql.window import Window\n",
    "    from pyspark.ml.feature import StringIndexer, VectorAssembler\n",
    "    from pyspark.ml.classification import RandomForestClassifier\n",
    "    from pyspark.ml.evaluation import BinaryClassificationEvaluator\n",
    "    from pyspark.ml.tuning import CrossValidator, ParamGridBuilder\n",
    "    from pyspark.ml.evaluation import BinaryClassificationEvaluator\n",
    "\n",
    "except ImportError:\n",
    "    print(\"PySpark não está instalado. Instale com: pip install pyspark\")\n",
    "    sys.exit(1)\n",
    "\n",
    "spark = SparkSession.builder.getOrCreate()"
   ]
  },
  {
   "cell_type": "markdown",
   "metadata": {
    "application/vnd.databricks.v1+cell": {
     "cellMetadata": {
      "byteLimit": 2048000,
      "rowLimit": 10000
     },
     "inputWidgets": {},
     "nuid": "dbea78a3-72c1-41b9-9439-b1868f3543ce",
     "showTitle": false,
     "tableResultSettingsMap": {},
     "title": ""
    }
   },
   "source": [
    "### Configuração de diretórios"
   ]
  },
  {
   "cell_type": "code",
   "execution_count": 0,
   "metadata": {
    "application/vnd.databricks.v1+cell": {
     "cellMetadata": {
      "byteLimit": 2048000,
      "rowLimit": 10000
     },
     "inputWidgets": {},
     "nuid": "30164f17-406e-400c-9c5f-2e2af4393d8a",
     "showTitle": false,
     "tableResultSettingsMap": {},
     "title": ""
    }
   },
   "outputs": [],
   "source": [
    "# Detectar se está rodando no Databricks, pois o padrão de diretórios podem ser diferentes de uma máquina local\n",
    "running_in_databricks = os.path.exists(\"/databricks/driver\")\n",
    "\n",
    "# Ajusta o caminho raiz do projeto\n",
    "if running_in_databricks:\n",
    "    project_root = \"/dbfs\" + os.getcwd().split(\"/notebooks\")[0]  # raiz do workspace em DBFSpara Databricks\n",
    "else:\n",
    "    project_root = os.path.abspath(\"..\")  # pasta acima de notebooks/\n",
    "\n",
    "# Cria string de diretório\n",
    "parquet_path_transformed = os.path.join(project_root, \"data\", \"processed\", \"unificado_transformed.parquet\")\n",
    "parquet_path = os.path.join(project_root, \"data\", \"processed\", \"unificado.parquet\")"
   ]
  },
  {
   "cell_type": "markdown",
   "metadata": {
    "application/vnd.databricks.v1+cell": {
     "cellMetadata": {
      "byteLimit": 2048000,
      "rowLimit": 10000
     },
     "inputWidgets": {},
     "nuid": "8b00c173-ae4a-4f4b-8291-b4a8a9d35083",
     "showTitle": false,
     "tableResultSettingsMap": {},
     "title": ""
    }
   },
   "source": [
    "## Carregamento e Leitura dos Dados"
   ]
  },
  {
   "cell_type": "code",
   "execution_count": 0,
   "metadata": {
    "application/vnd.databricks.v1+cell": {
     "cellMetadata": {
      "byteLimit": 2048000,
      "rowLimit": 10000
     },
     "inputWidgets": {},
     "nuid": "7aa4256f-521d-44a7-9bba-a8e58e6dbd8f",
     "showTitle": false,
     "tableResultSettingsMap": {},
     "title": ""
    }
   },
   "outputs": [
    {
     "output_type": "stream",
     "name": "stdout",
     "output_type": "stream",
     "text": [
      "root\n |-- account_id: string (nullable = true)\n |-- offer_id: string (nullable = true)\n |-- time_since_test_start: double (nullable = true)\n |-- event: string (nullable = true)\n |-- amount: double (nullable = true)\n |-- reward: double (nullable = true)\n |-- amount_is_null: integer (nullable = true)\n |-- reward_is_null: integer (nullable = true)\n |-- age: long (nullable = true)\n |-- credit_card_limit: double (nullable = true)\n |-- gender: string (nullable = true)\n |-- credit_card_limit_is_null: integer (nullable = true)\n |-- discount_value: long (nullable = true)\n |-- duration: double (nullable = true)\n |-- min_value: long (nullable = true)\n |-- offer_type: string (nullable = true)\n |-- channel_mobile: integer (nullable = true)\n |-- channel_email: integer (nullable = true)\n |-- channel_social: integer (nullable = true)\n |-- channel_web: integer (nullable = true)\n |-- is_offer_id_null: integer (nullable = true)\n |-- registered_on_date: date (nullable = true)\n |-- dias_desde_registro: integer (nullable = true)\n |-- ano_registro: integer (nullable = true)\n |-- mes_registro: integer (nullable = true)\n |-- semana_registro: integer (nullable = true)\n |-- offer_window_end: double (nullable = true)\n |-- converted: integer (nullable = true)\n\n"
     ]
    }
   ],
   "source": [
    "# Carrega os dados processados\n",
    "offers = spark.read.parquet(parquet_path_transformed)\n",
    "df = spark.read.parquet(parquet_path)\n",
    "offers.printSchema()"
   ]
  },
  {
   "cell_type": "markdown",
   "metadata": {
    "application/vnd.databricks.v1+cell": {
     "cellMetadata": {
      "byteLimit": 2048000,
      "rowLimit": 10000
     },
     "inputWidgets": {},
     "nuid": "343dfbbc-e36b-498c-bafa-ee85a5cc1105",
     "showTitle": false,
     "tableResultSettingsMap": {},
     "title": ""
    }
   },
   "source": [
    "## Transformações Vetoriais"
   ]
  },
  {
   "cell_type": "code",
   "execution_count": 0,
   "metadata": {
    "application/vnd.databricks.v1+cell": {
     "cellMetadata": {
      "byteLimit": 2048000,
      "rowLimit": 10000
     },
     "inputWidgets": {},
     "nuid": "faf4c351-24ff-40c3-96be-a1862f7a714b",
     "showTitle": false,
     "tableResultSettingsMap": {},
     "title": ""
    }
   },
   "outputs": [],
   "source": [
    "#  Selecionar colunas para modelagem\n",
    "model_data = offers.select(\n",
    "    \"converted\",\n",
    "    \"offer_type\",\n",
    "    \"min_value\",\n",
    "    \"duration\",\n",
    "    \"discount_value\",\n",
    "    \"age\",\n",
    "    \"credit_card_limit\",\n",
    "    \"gender\",\n",
    "    \"credit_card_limit_is_null\",\n",
    "    \"channel_mobile\",\n",
    "    \"channel_email\",\n",
    "    \"channel_social\",\n",
    "    \"channel_web\",\n",
    "    \"dias_desde_registro\",\n",
    "    \"ano_registro\",\n",
    "    \"mes_registro\",\n",
    "    \"semana_registro\"\n",
    ")\n",
    "\n",
    "# Tratar nulos antes do StringIndexer\n",
    "model_data = model_data.fillna({\n",
    "    \"offer_type\": \"unknown\",\n",
    "    \"gender\": \"unknown\"\n",
    "})\n",
    "\n",
    "# 10. Encoding\n",
    "indexers = [\n",
    "    StringIndexer(inputCol=\"offer_type\", outputCol=\"offer_type_idx\"),\n",
    "    StringIndexer(inputCol=\"gender\", outputCol=\"gender_idx\")\n",
    "]\n",
    "\n",
    "for indexer in indexers:\n",
    "    model_data = indexer.fit(model_data).transform(model_data)\n",
    "\n",
    "# 11. Montar vetor de features\n",
    "assembler = VectorAssembler(\n",
    "    inputCols=[\"offer_type_idx\", \"min_value\", \"duration\", \"discount_value\", \"age\", \"credit_card_limit\", \"gender_idx\",\"credit_card_limit_is_null\",\n",
    "    \"channel_mobile\",\n",
    "    \"channel_email\",\n",
    "    \"channel_social\",\n",
    "    \"channel_web\",\n",
    "    \"dias_desde_registro\",\n",
    "    \"ano_registro\",\n",
    "    \"mes_registro\",\n",
    "    \"semana_registro\"],\n",
    "    outputCol=\"features\"\n",
    ")\n",
    "\n",
    "data = assembler.transform(model_data).select(\"features\", \"converted\")"
   ]
  },
  {
   "cell_type": "markdown",
   "metadata": {
    "application/vnd.databricks.v1+cell": {
     "cellMetadata": {
      "byteLimit": 2048000,
      "rowLimit": 10000
     },
     "inputWidgets": {},
     "nuid": "1afdc637-b37c-428e-aeae-ea87b95fae15",
     "showTitle": false,
     "tableResultSettingsMap": {},
     "title": ""
    }
   },
   "source": [
    "## Treino"
   ]
  },
  {
   "cell_type": "code",
   "execution_count": 0,
   "metadata": {
    "application/vnd.databricks.v1+cell": {
     "cellMetadata": {
      "byteLimit": 2048000,
      "rowLimit": 10000
     },
     "inputWidgets": {},
     "nuid": "e473da84-cbd6-425d-a7a4-566a32051e7b",
     "showTitle": false,
     "tableResultSettingsMap": {},
     "title": ""
    }
   },
   "outputs": [
    {
     "output_type": "display_data",
     "data": {
      "text/html": [
       "<style scoped>\n",
       "  .ansiout {\n",
       "    display: block;\n",
       "    unicode-bidi: embed;\n",
       "    white-space: pre-wrap;\n",
       "    word-wrap: break-word;\n",
       "    word-break: break-all;\n",
       "    font-family: \"Menlo\", \"Monaco\", \"Consolas\", \"Ubuntu Mono\", \"Source Code Pro\", monospace;\n",
       "    font-size: 13px;\n",
       "    color: #555;\n",
       "    margin-left: 4px;\n",
       "    line-height: 19px;\n",
       "  }\n",
       "</style>"
      ]
     },
     "metadata": {
      "application/vnd.databricks.v1+output": {
       "arguments": {},
       "data": "",
       "errorSummary": "",
       "errorTraceType": null,
       "metadata": {},
       "type": "ipynbError"
      }
     },
     "output_type": "display_data"
    }
   ],
   "source": [
    "# Separação Treino teste\n",
    "train, test = data.randomSplit([0.8, 0.2], seed=42)\n",
    "\n",
    "# Modelo base\n",
    "rf = RandomForestClassifier(labelCol=\"converted\", featuresCol=\"features\", seed=42)\n"
   ]
  },
  {
   "cell_type": "markdown",
   "metadata": {
    "application/vnd.databricks.v1+cell": {
     "cellMetadata": {
      "byteLimit": 2048000,
      "rowLimit": 10000
     },
     "inputWidgets": {},
     "nuid": "a180f86e-49e9-40f0-8dee-9b49e5bb03d7",
     "showTitle": false,
     "tableResultSettingsMap": {},
     "title": ""
    }
   },
   "source": [
    "## Tuning do Modelo"
   ]
  },
  {
   "cell_type": "code",
   "execution_count": 0,
   "metadata": {
    "application/vnd.databricks.v1+cell": {
     "cellMetadata": {
      "byteLimit": 2048000,
      "rowLimit": 10000
     },
     "inputWidgets": {},
     "nuid": "4def2eac-bdf1-491d-8d1b-4c66afbbb28e",
     "showTitle": false,
     "tableResultSettingsMap": {},
     "title": ""
    }
   },
   "outputs": [
    {
     "output_type": "stream",
     "name": "stdout",
     "output_type": "stream",
     "text": [
      "Melhor numTrees: 50\nMelhor maxDepth: 5\nMelhor minInstancesPerNode: 2\n"
     ]
    },
    {
     "output_type": "display_data",
     "data": {
      "text/html": [
       "<style scoped>\n",
       "  .ansiout {\n",
       "    display: block;\n",
       "    unicode-bidi: embed;\n",
       "    white-space: pre-wrap;\n",
       "    word-wrap: break-word;\n",
       "    word-break: break-all;\n",
       "    font-family: \"Menlo\", \"Monaco\", \"Consolas\", \"Ubuntu Mono\", \"Source Code Pro\", monospace;\n",
       "    font-size: 13px;\n",
       "    color: #555;\n",
       "    margin-left: 4px;\n",
       "    line-height: 19px;\n",
       "  }\n",
       "</style>"
      ]
     },
     "metadata": {
      "application/vnd.databricks.v1+output": {
       "arguments": {},
       "data": "",
       "errorSummary": "",
       "errorTraceType": null,
       "metadata": {},
       "type": "ipynbError"
      }
     },
     "output_type": "display_data"
    }
   ],
   "source": [
    "# Simulação de Random Search: amostra aleatória de parâmetros\n",
    "n_random = 8  \n",
    "all_params = []\n",
    "\n",
    "for _ in range(n_random):\n",
    "    num_trees = random.choice([20, 50, 100, 200])\n",
    "    max_depth = random.choice([3, 5, 10, 15, 20])\n",
    "    min_instances = random.choice([1, 2, 5])\n",
    "\n",
    "    all_params.append({\n",
    "        rf.numTrees: num_trees,\n",
    "        rf.maxDepth: max_depth,\n",
    "        rf.minInstancesPerNode: min_instances\n",
    "    })\n",
    "\n",
    "# Criar um ParamGridBuilder manualmente\n",
    "grid = ParamGridBuilder()\n",
    "for param_set in all_params:\n",
    "    grid.addGrid(rf.numTrees, [param_set[rf.numTrees]])\n",
    "    grid.addGrid(rf.maxDepth, [param_set[rf.maxDepth]])\n",
    "    grid.addGrid(rf.minInstancesPerNode, [param_set[rf.minInstancesPerNode]])\n",
    "\n",
    "param_grid = grid.build()\n",
    "\n",
    "# Avaliador\n",
    "evaluator = BinaryClassificationEvaluator(labelCol=\"converted\", metricName=\"areaUnderROC\")\n",
    "\n",
    "# CrossValidator\n",
    "cv = CrossValidator(\n",
    "    estimator=rf,\n",
    "    estimatorParamMaps=param_grid,\n",
    "    evaluator=evaluator,\n",
    "    numFolds=3,\n",
    "    parallelism=2,  # Ajuste conforme sua infra\n",
    "    seed=42\n",
    ")\n",
    "\n",
    "# Treinamento com validação cruzada\n",
    "cv_model = cv.fit(data)\n",
    "\n",
    "# Melhor modelo\n",
    "best_model = cv_model.bestModel\n",
    "print(f\"Melhor numTrees: {best_model.getNumTrees}\")\n",
    "print(f\"Melhor maxDepth: {best_model.getOrDefault('maxDepth')}\")\n",
    "print(f\"Melhor minInstancesPerNode: {best_model.getOrDefault('minInstancesPerNode')}\")\n"
   ]
  },
  {
   "cell_type": "markdown",
   "metadata": {
    "application/vnd.databricks.v1+cell": {
     "cellMetadata": {
      "byteLimit": 2048000,
      "rowLimit": 10000
     },
     "inputWidgets": {},
     "nuid": "30b187a4-b0d4-4e45-a622-f52e48a7cd53",
     "showTitle": false,
     "tableResultSettingsMap": {},
     "title": ""
    }
   },
   "source": [
    "## Avaliação"
   ]
  },
  {
   "cell_type": "code",
   "execution_count": 0,
   "metadata": {
    "application/vnd.databricks.v1+cell": {
     "cellMetadata": {
      "byteLimit": 2048000,
      "rowLimit": 10000
     },
     "inputWidgets": {},
     "nuid": "ce03e8df-6ef5-4871-aeb9-506b5c88d5e5",
     "showTitle": false,
     "tableResultSettingsMap": {},
     "title": ""
    }
   },
   "outputs": [
    {
     "output_type": "stream",
     "name": "stdout",
     "output_type": "stream",
     "text": [
      "AUC: 0.7325\n"
     ]
    },
    {
     "output_type": "display_data",
     "data": {
      "text/html": [
       "<style scoped>\n",
       "  .ansiout {\n",
       "    display: block;\n",
       "    unicode-bidi: embed;\n",
       "    white-space: pre-wrap;\n",
       "    word-wrap: break-word;\n",
       "    word-break: break-all;\n",
       "    font-family: \"Menlo\", \"Monaco\", \"Consolas\", \"Ubuntu Mono\", \"Source Code Pro\", monospace;\n",
       "    font-size: 13px;\n",
       "    color: #555;\n",
       "    margin-left: 4px;\n",
       "    line-height: 19px;\n",
       "  }\n",
       "</style>"
      ]
     },
     "metadata": {
      "application/vnd.databricks.v1+output": {
       "arguments": {},
       "data": "",
       "errorSummary": "",
       "errorTraceType": null,
       "metadata": {},
       "type": "ipynbError"
      }
     },
     "output_type": "display_data"
    }
   ],
   "source": [
    "# AUC do melhor modelo\n",
    "auc = evaluator.evaluate(best_model.transform(data))\n",
    "print(f\"AUC: {auc:.4f}\")"
   ]
  },
  {
   "cell_type": "markdown",
   "metadata": {
    "application/vnd.databricks.v1+cell": {
     "cellMetadata": {
      "byteLimit": 2048000,
      "rowLimit": 10000
     },
     "inputWidgets": {},
     "nuid": "5e70c82a-f474-4273-8170-ccbb6909af59",
     "showTitle": false,
     "tableResultSettingsMap": {},
     "title": ""
    }
   },
   "source": [
    "## Resultado"
   ]
  },
  {
   "cell_type": "code",
   "execution_count": 0,
   "metadata": {
    "application/vnd.databricks.v1+cell": {
     "cellMetadata": {
      "byteLimit": 2048000,
      "rowLimit": 10000
     },
     "inputWidgets": {},
     "nuid": "48c8e5b5-f685-468f-8815-d568215f733e",
     "showTitle": false,
     "tableResultSettingsMap": {},
     "title": ""
    }
   },
   "outputs": [
    {
     "output_type": "stream",
     "name": "stdout",
     "output_type": "stream",
     "text": [
      "+--------------------------+----------------------+-------------------+\n|total_expected_conversions|total_expected_revenue|total_expected_cost|\n+--------------------------+----------------------+-------------------+\n|        13978.336352313218|    219617.44926083766|  69884.77766411904|\n+--------------------------+----------------------+-------------------+\n\n"
     ]
    },
    {
     "output_type": "display_data",
     "data": {
      "text/html": [
       "<style scoped>\n",
       "  .ansiout {\n",
       "    display: block;\n",
       "    unicode-bidi: embed;\n",
       "    white-space: pre-wrap;\n",
       "    word-wrap: break-word;\n",
       "    word-break: break-all;\n",
       "    font-family: \"Menlo\", \"Monaco\", \"Consolas\", \"Ubuntu Mono\", \"Source Code Pro\", monospace;\n",
       "    font-size: 13px;\n",
       "    color: #555;\n",
       "    margin-left: 4px;\n",
       "    line-height: 19px;\n",
       "  }\n",
       "</style>"
      ]
     },
     "metadata": {
      "application/vnd.databricks.v1+output": {
       "arguments": {},
       "data": "",
       "errorSummary": "",
       "errorTraceType": null,
       "metadata": {},
       "type": "ipynbError"
      }
     },
     "output_type": "display_data"
    }
   ],
   "source": [
    "from pyspark.sql.functions import monotonically_increasing_id\n",
    "\n",
    "# Dados únicos\n",
    "unique_clients = df.select(\"account_id\", \"age\", \"gender\", \"credit_card_limit\", \n",
    "                           \"credit_card_limit_is_null\", \"dias_desde_registro\", \n",
    "                           \"ano_registro\", \"mes_registro\", \"semana_registro\",\n",
    "                           \"channel_mobile\", \"channel_email\", \"channel_social\", \"channel_web\").distinct()\n",
    "\n",
    "unique_offers = df.select(\"offer_id\", \"offer_type\", \"min_value\", \"duration\", \"discount_value\").dropna().distinct()\n",
    "\n",
    "# Cross join\n",
    "candidates = unique_clients.crossJoin(unique_offers)\n",
    "\n",
    "# Substituir nulos\n",
    "candidates = candidates.fillna({\n",
    "    \"offer_type\": \"unknown\",\n",
    "    \"gender\": \"unknown\"\n",
    "})\n",
    "\n",
    "# Indexadores\n",
    "indexers = [\n",
    "    StringIndexer(inputCol=\"offer_type\", outputCol=\"offer_type_idx\"),\n",
    "    StringIndexer(inputCol=\"gender\", outputCol=\"gender_idx\")\n",
    "]\n",
    "\n",
    "for indexer in indexers:\n",
    "    candidates = indexer.fit(candidates).transform(candidates)\n",
    "\n",
    "# Vetor de features\n",
    "candidate_features = assembler.transform(candidates)\n",
    "\n",
    "from pyspark.sql.functions import udf\n",
    "from pyspark.sql.types import DoubleType\n",
    "\n",
    "predictions = best_model.transform(candidate_features)\n",
    "\n",
    "# Pegar probabilidade positiva\n",
    "get_prob = udf(lambda v: float(v[1]), DoubleType())\n",
    "predictions = predictions.withColumn(\"positive_probability\", get_prob(col(\"probability\")))\n",
    "\n",
    "from pyspark.sql.window import Window\n",
    "from pyspark.sql.functions import row_number\n",
    "\n",
    "windowSpec = Window.partitionBy(\"account_id\").orderBy(col(\"positive_probability\").desc())\n",
    "\n",
    "best_offers = predictions.withColumn(\"rank\", row_number().over(windowSpec)) \\\n",
    "    .filter(col(\"rank\") == 1)\n",
    "\n",
    "from pyspark.sql.functions import col\n",
    "\n",
    "impact = best_offers.withColumn(\"expected_conversion\", col(\"positive_probability\")) \\\n",
    "    .withColumn(\"expected_revenue\", col(\"expected_conversion\") * col(\"min_value\")) \\\n",
    "    .withColumn(\"expected_cost\", col(\"expected_conversion\") * col(\"discount_value\"))\n",
    "\n",
    "impact_summary = impact.agg(\n",
    "    {\"expected_conversion\": \"sum\", \n",
    "     \"expected_revenue\": \"sum\", \n",
    "     \"expected_cost\": \"sum\"}\n",
    ").withColumnRenamed(\"sum(expected_conversion)\", \"total_expected_conversions\") \\\n",
    " .withColumnRenamed(\"sum(expected_revenue)\", \"total_expected_revenue\") \\\n",
    " .withColumnRenamed(\"sum(expected_cost)\", \"total_expected_cost\")\n",
    "\n",
    "impact_summary.show()\n"
   ]
  },
  {
   "cell_type": "markdown",
   "metadata": {
    "application/vnd.databricks.v1+cell": {
     "cellMetadata": {
      "byteLimit": 2048000,
      "rowLimit": 10000
     },
     "inputWidgets": {},
     "nuid": "5b55c35d-a070-4dd8-b546-bd621206a57f",
     "showTitle": false,
     "tableResultSettingsMap": {},
     "title": ""
    }
   },
   "source": [
    "## Visualizações"
   ]
  },
  {
   "cell_type": "markdown",
   "metadata": {
    "application/vnd.databricks.v1+cell": {
     "cellMetadata": {
      "byteLimit": 2048000,
      "rowLimit": 10000
     },
     "inputWidgets": {},
     "nuid": "a1847ce8-3230-4e49-ac9a-b28b3a2ab176",
     "showTitle": false,
     "tableResultSettingsMap": {},
     "title": ""
    }
   },
   "source": [
    "### Feature Importance"
   ]
  },
  {
   "cell_type": "code",
   "execution_count": 0,
   "metadata": {
    "application/vnd.databricks.v1+cell": {
     "cellMetadata": {
      "byteLimit": 2048000,
      "rowLimit": 10000
     },
     "inputWidgets": {},
     "nuid": "0ee77d49-631f-4cbd-b329-c2c5bc9cb445",
     "showTitle": false,
     "tableResultSettingsMap": {},
     "title": ""
    }
   },
   "outputs": [
    {
     "output_type": "display_data",
     "data": {
      "image/png": "[encoded data removed]"
     },
     "metadata": {
      "application/vnd.databricks.v1+output": {
       "addedWidgets": {},
       "arguments": {},
       "data": "data:image/png;base64,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\n",
       "datasetInfos": [],
       "metadata": {},
       "removedWidgets": [],
       "type": "image"
      }
     },
     "output_type": "display_data"
    },
    {
     "output_type": "stream",
     "name": "stdout",
     "output_type": "stream",
     "text": [
      "dias_desde_registro: 0.3140\noffer_type_idx: 0.1545\nmin_value: 0.1236\nduration: 0.1202\ndiscount_value: 0.1134\nano_registro: 0.1072\ncredit_card_limit: 0.0307\nage: 0.0118\nsemana_registro: 0.0062\ngender_idx: 0.0057\nchannel_web: 0.0038\ncredit_card_limit_is_null: 0.0035\nmes_registro: 0.0026\nchannel_social: 0.0017\nchannel_mobile: 0.0010\nchannel_email: 0.0000\n"
     ]
    },
    {
     "output_type": "display_data",
     "data": {
      "text/html": [
       "<style scoped>\n",
       "  .ansiout {\n",
       "    display: block;\n",
       "    unicode-bidi: embed;\n",
       "    white-space: pre-wrap;\n",
       "    word-wrap: break-word;\n",
       "    word-break: break-all;\n",
       "    font-family: \"Menlo\", \"Monaco\", \"Consolas\", \"Ubuntu Mono\", \"Source Code Pro\", monospace;\n",
       "    font-size: 13px;\n",
       "    color: #555;\n",
       "    margin-left: 4px;\n",
       "    line-height: 19px;\n",
       "  }\n",
       "</style>"
      ]
     },
     "metadata": {
      "application/vnd.databricks.v1+output": {
       "arguments": {},
       "data": "",
       "errorSummary": "",
       "errorTraceType": null,
       "metadata": {},
       "type": "ipynbError"
      }
     },
     "output_type": "display_data"
    }
   ],
   "source": [
    "import matplotlib.pyplot as plt\n",
    "import seaborn as sns\n",
    "import pandas as pd\n",
    "\n",
    "# 1. Obter importância das features\n",
    "importances = best_model.featureImportances\n",
    "feature_names = assembler.getInputCols()\n",
    "feature_importance_list = list(zip(feature_names, importances.toArray()))\n",
    "feature_importance_list = sorted(feature_importance_list, key=lambda x: x[1], reverse=True)\n",
    "\n",
    "# 2. Criar DataFrame\n",
    "importance_df = pd.DataFrame(feature_importance_list, columns=[\"feature\", \"importance\"])\n",
    "\n",
    "# 3. Plotar gráfico de barras das importâncias\n",
    "plt.figure(figsize=(12, 6))\n",
    "sns.barplot(data=importance_df, x=\"importance\", y=\"feature\", palette=\"viridis\")\n",
    "plt.title(\"Importância das Features - Modelo Random Forest\")\n",
    "plt.xlabel(\"Importância\")\n",
    "plt.ylabel(\"Features\")\n",
    "plt.tight_layout()\n",
    "plt.show()\n",
    "\n",
    "# Mostrar\n",
    "for name, score in feature_importance_list:\n",
    "    print(f\"{name}: {score:.4f}\")\n",
    "\n"
   ]
  },
  {
   "cell_type": "markdown",
   "metadata": {
    "application/vnd.databricks.v1+cell": {
     "cellMetadata": {
      "byteLimit": 2048000,
      "rowLimit": 10000
     },
     "inputWidgets": {},
     "nuid": "002acfc3-b89c-442a-acb3-5c458b3de261",
     "showTitle": false,
     "tableResultSettingsMap": {},
     "title": ""
    }
   },
   "source": [
    "### Taxas de conversão "
   ]
  },
  {
   "cell_type": "code",
   "execution_count": 0,
   "metadata": {
    "application/vnd.databricks.v1+cell": {
     "cellMetadata": {
      "byteLimit": 2048000,
      "rowLimit": 10000
     },
     "inputWidgets": {},
     "nuid": "e08357f6-afb1-4f35-85ca-00ff75bb1a83",
     "showTitle": false,
     "tableResultSettingsMap": {},
     "title": ""
    }
   },
   "outputs": [
    {
     "output_type": "display_data",
     "data": {
      "image/png": "[encoded data removed]"
     },
     "metadata": {
      "application/vnd.databricks.v1+output": {
       "addedWidgets": {},
       "arguments": {},
       "data": "data:image/png;base64,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\n",
       "datasetInfos": [],
       "metadata": {},
       "removedWidgets": [],
       "type": "image"
      }
     },
     "output_type": "display_data"
    },
    {
     "output_type": "display_data",
     "data": {
      "image/png": "[encoded data removed]"
     },
     "metadata": {
      "application/vnd.databricks.v1+output": {
       "addedWidgets": {},
       "arguments": {},
       "data": "data:image/png;base64,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\n",
       "datasetInfos": [],
       "metadata": {},
       "removedWidgets": [],
       "type": "image"
      }
     },
     "output_type": "display_data"
    },
    {
     "output_type": "display_data",
     "data": {
      "text/html": [
       "<style scoped>\n",
       "  .ansiout {\n",
       "    display: block;\n",
       "    unicode-bidi: embed;\n",
       "    white-space: pre-wrap;\n",
       "    word-wrap: break-word;\n",
       "    word-break: break-all;\n",
       "    font-family: \"Menlo\", \"Monaco\", \"Consolas\", \"Ubuntu Mono\", \"Source Code Pro\", monospace;\n",
       "    font-size: 13px;\n",
       "    color: #555;\n",
       "    margin-left: 4px;\n",
       "    line-height: 19px;\n",
       "  }\n",
       "</style>"
      ]
     },
     "metadata": {
      "application/vnd.databricks.v1+output": {
       "arguments": {},
       "data": "",
       "errorSummary": "",
       "errorTraceType": null,
       "metadata": {},
       "type": "ipynbError"
      }
     },
     "output_type": "display_data"
    }
   ],
   "source": [
    "# Calcular média de conversão por valor de gender_idx\n",
    "gender_stats = model_data.groupBy(\"gender\", \"gender_idx\").agg({\"converted\": \"mean\"}).toPandas()\n",
    "gender_stats = gender_stats.sort_values(\"gender_idx\")\n",
    "\n",
    "# Plotar\n",
    "plt.figure(figsize=(6, 4))\n",
    "sns.barplot(data=gender_stats, x=\"gender\", y=\"avg(converted)\", palette=\"coolwarm\")\n",
    "plt.title(\"Taxa de Conversão por Gênero\")\n",
    "plt.ylabel(\"Taxa de Conversão Média\")\n",
    "plt.xlabel(\"Gênero\")\n",
    "plt.ylim(0, 1)\n",
    "plt.tight_layout()\n",
    "plt.show()\n",
    "\n",
    "# Calcular média de conversão por offer_type_idx\n",
    "offer_stats = model_data.groupBy(\"offer_type\", \"offer_type_idx\").agg({\"converted\": \"mean\"}).toPandas()\n",
    "offer_stats = offer_stats.sort_values(\"offer_type_idx\")\n",
    "\n",
    "# Plotar\n",
    "plt.figure(figsize=(8, 4))\n",
    "sns.barplot(data=offer_stats, x=\"offer_type\", y=\"avg(converted)\", palette=\"mako\")\n",
    "plt.title(\"Taxa de Conversão por Tipo de Oferta\")\n",
    "plt.ylabel(\"Taxa de Conversão Média\")\n",
    "plt.xlabel(\"Tipo de Oferta\")\n",
    "plt.ylim(0, 1)\n",
    "plt.tight_layout()\n",
    "plt.show()\n"
   ]
  }
 ],
 "metadata": {
  "application/vnd.databricks.v1+notebook": {
   "computePreferences": null,
   "dashboards": [],
   "environmentMetadata": {
    "base_environment": "",
    "environment_version": "1"
   },
   "inputWidgetPreferences": null,
   "language": "python",
   "notebookMetadata": {
    "pythonIndentUnit": 4
   },
   "notebookName": "2_modeling.ipynb",
   "widgets": {}
  }
 },
 "nbformat": 4,
 "nbformat_minor": 0
}