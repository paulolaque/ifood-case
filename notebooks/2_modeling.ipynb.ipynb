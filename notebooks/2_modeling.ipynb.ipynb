{
 "cells": [
  {
   "cell_type": "markdown",
   "metadata": {
    "application/vnd.databricks.v1+cell": {
     "cellMetadata": {
      "byteLimit": 2048000,
      "rowLimit": 10000
     },
     "inputWidgets": {},
     "nuid": "35a6cc03-765d-42d5-9638-128063d14c3f",
     "showTitle": false,
     "tableResultSettingsMap": {},
     "title": ""
    }
   },
   "source": [
    "# Modelagem de Dados\n",
    "Este notebook pertence ao projeto: Case Téc­ni­co Data Sci­en­ce - iFo­od acessível em \\\n",
    "https://github.com/paulolaque/ifood-case.git"
   ]
  },
  {
   "cell_type": "markdown",
   "metadata": {
    "application/vnd.databricks.v1+cell": {
     "cellMetadata": {
      "byteLimit": 2048000,
      "rowLimit": 10000
     },
     "inputWidgets": {},
     "nuid": "9d538d9d-4c3f-40e7-9b52-cf51628d9294",
     "showTitle": false,
     "tableResultSettingsMap": {},
     "title": ""
    }
   },
   "source": [
    "## Procedimentos iniciais"
   ]
  },
  {
   "cell_type": "markdown",
   "metadata": {
    "application/vnd.databricks.v1+cell": {
     "cellMetadata": {
      "byteLimit": 2048000,
      "rowLimit": 10000
     },
     "inputWidgets": {},
     "nuid": "6b57f751-92f8-45f8-bccf-a8eac2375fb3",
     "showTitle": false,
     "tableResultSettingsMap": {},
     "title": ""
    }
   },
   "source": [
    "### Importação de bibliotecas"
   ]
  },
  {
   "cell_type": "code",
   "execution_count": 0,
   "metadata": {
    "application/vnd.databricks.v1+cell": {
     "cellMetadata": {
      "byteLimit": 2048000,
      "rowLimit": 10000
     },
     "inputWidgets": {},
     "nuid": "3f85f4cb-4c62-44f7-82d8-3c4cdc45c47b",
     "showTitle": false,
     "tableResultSettingsMap": {},
     "title": ""
    }
   },
   "outputs": [],
   "source": [
    "import os\n",
    "import random\n",
    "import matplotlib.pyplot as plt\n",
    "import seaborn as sns\n",
    "import pandas as pd\n",
    "\n",
    "# Este notebook executa em pyspark, favor instalar caso necessário\n",
    "try:\n",
    "    from pyspark.sql import SparkSession\n",
    "    from pyspark.sql.functions import col, when, collect_list, explode, struct, lit, max as spark_max\n",
    "    from pyspark.sql.window import Window\n",
    "    from pyspark.ml.feature import StringIndexer, VectorAssembler\n",
    "    from pyspark.ml.classification import RandomForestClassifier\n",
    "    from pyspark.ml.evaluation import BinaryClassificationEvaluator\n",
    "    from pyspark.ml.tuning import CrossValidator, ParamGridBuilder\n",
    "    from pyspark.ml.evaluation import BinaryClassificationEvaluator\n",
    "    from pyspark.sql.functions import monotonically_increasing_id\n",
    "\n",
    "except ImportError:\n",
    "    print(\"PySpark não está instalado. Instale com: pip install pyspark\")\n",
    "    sys.exit(1)\n",
    "\n",
    "spark = SparkSession.builder.getOrCreate()"
   ]
  },
  {
   "cell_type": "markdown",
   "metadata": {
    "application/vnd.databricks.v1+cell": {
     "cellMetadata": {
      "byteLimit": 2048000,
      "rowLimit": 10000
     },
     "inputWidgets": {},
     "nuid": "dbea78a3-72c1-41b9-9439-b1868f3543ce",
     "showTitle": false,
     "tableResultSettingsMap": {},
     "title": ""
    }
   },
   "source": [
    "### Configuração de diretórios"
   ]
  },
  {
   "cell_type": "code",
   "execution_count": 0,
   "metadata": {
    "application/vnd.databricks.v1+cell": {
     "cellMetadata": {
      "byteLimit": 2048000,
      "rowLimit": 10000
     },
     "inputWidgets": {},
     "nuid": "30164f17-406e-400c-9c5f-2e2af4393d8a",
     "showTitle": false,
     "tableResultSettingsMap": {},
     "title": ""
    }
   },
   "outputs": [],
   "source": [
    "# Detectar se está rodando no Databricks, pois o padrão de diretórios podem ser diferentes de uma máquina local\n",
    "running_in_databricks = os.path.exists(\"/databricks/driver\")\n",
    "\n",
    "# Ajusta o caminho raiz do projeto\n",
    "if running_in_databricks:\n",
    "    project_root = \"/dbfs\" + os.getcwd().split(\"/notebooks\")[0]  # raiz do workspace em DBFSpara Databricks\n",
    "else:\n",
    "    project_root = os.path.abspath(\"..\")  # pasta acima de notebooks/\n",
    "\n",
    "# Cria string de diretório\n",
    "parquet_path_transformed = os.path.join(project_root, \"data\", \"processed\", \"unificado_transformed.parquet\")\n",
    "parquet_path = os.path.join(project_root, \"data\", \"processed\", \"unificado.parquet\")"
   ]
  },
  {
   "cell_type": "markdown",
   "metadata": {
    "application/vnd.databricks.v1+cell": {
     "cellMetadata": {
      "byteLimit": 2048000,
      "rowLimit": 10000
     },
     "inputWidgets": {},
     "nuid": "8b00c173-ae4a-4f4b-8291-b4a8a9d35083",
     "showTitle": false,
     "tableResultSettingsMap": {},
     "title": ""
    }
   },
   "source": [
    "## Carregamento e Leitura dos Dados"
   ]
  },
  {
   "cell_type": "code",
   "execution_count": 0,
   "metadata": {
    "application/vnd.databricks.v1+cell": {
     "cellMetadata": {
      "byteLimit": 2048000,
      "rowLimit": 10000
     },
     "inputWidgets": {},
     "nuid": "7aa4256f-521d-44a7-9bba-a8e58e6dbd8f",
     "showTitle": false,
     "tableResultSettingsMap": {},
     "title": ""
    }
   },
   "outputs": [
    {
     "output_type": "stream",
     "name": "stdout",
     "output_type": "stream",
     "text": [
      "root\n |-- account_id: string (nullable = true)\n |-- offer_id: string (nullable = true)\n |-- time_since_test_start: double (nullable = true)\n |-- event: string (nullable = true)\n |-- amount: double (nullable = true)\n |-- reward: double (nullable = true)\n |-- amount_is_null: integer (nullable = true)\n |-- reward_is_null: integer (nullable = true)\n |-- age: long (nullable = true)\n |-- credit_card_limit: double (nullable = true)\n |-- gender: string (nullable = true)\n |-- credit_card_limit_is_null: integer (nullable = true)\n |-- discount_value: long (nullable = true)\n |-- duration: double (nullable = true)\n |-- min_value: long (nullable = true)\n |-- offer_type: string (nullable = true)\n |-- channel_mobile: integer (nullable = true)\n |-- channel_email: integer (nullable = true)\n |-- channel_social: integer (nullable = true)\n |-- channel_web: integer (nullable = true)\n |-- is_offer_id_null: integer (nullable = true)\n |-- registered_on_date: date (nullable = true)\n |-- dias_desde_registro: integer (nullable = true)\n |-- ano_registro: integer (nullable = true)\n |-- mes_registro: integer (nullable = true)\n |-- semana_registro: integer (nullable = true)\n |-- offer_window_end: double (nullable = true)\n |-- converted: integer (nullable = true)\n\n"
     ]
    }
   ],
   "source": [
    "# Carrega os dados processados\n",
    "offers = spark.read.parquet(parquet_path_transformed)\n",
    "df = spark.read.parquet(parquet_path)\n",
    "offers.printSchema()"
   ]
  },
  {
   "cell_type": "markdown",
   "metadata": {
    "application/vnd.databricks.v1+cell": {
     "cellMetadata": {
      "byteLimit": 2048000,
      "rowLimit": 10000
     },
     "inputWidgets": {},
     "nuid": "343dfbbc-e36b-498c-bafa-ee85a5cc1105",
     "showTitle": false,
     "tableResultSettingsMap": {},
     "title": ""
    }
   },
   "source": [
    "## Transformações Vetoriais"
   ]
  },
  {
   "cell_type": "code",
   "execution_count": 0,
   "metadata": {
    "application/vnd.databricks.v1+cell": {
     "cellMetadata": {
      "byteLimit": 2048000,
      "rowLimit": 10000
     },
     "inputWidgets": {},
     "nuid": "faf4c351-24ff-40c3-96be-a1862f7a714b",
     "showTitle": false,
     "tableResultSettingsMap": {},
     "title": ""
    }
   },
   "outputs": [],
   "source": [
    "#  Selecionar colunas para modelagem\n",
    "model_data = offers.select(\n",
    "    \"converted\",\n",
    "    \"offer_type\",\n",
    "    \"min_value\",\n",
    "    \"duration\",\n",
    "    \"discount_value\",\n",
    "    \"age\",\n",
    "    \"credit_card_limit\",\n",
    "    \"gender\",\n",
    "    \"credit_card_limit_is_null\",\n",
    "    \"channel_mobile\",\n",
    "    \"channel_email\",\n",
    "    \"channel_social\",\n",
    "    \"channel_web\",\n",
    "    \"dias_desde_registro\",\n",
    "    \"ano_registro\",\n",
    "    \"mes_registro\",\n",
    "    \"semana_registro\"\n",
    ")\n",
    "\n",
    "# Tratar nulos antes do StringIndexer\n",
    "model_data = model_data.fillna({\n",
    "    \"offer_type\": \"unknown\",\n",
    "    \"gender\": \"unknown\"\n",
    "})\n",
    "\n",
    "# 10. Encoding\n",
    "indexers = [\n",
    "    StringIndexer(inputCol=\"offer_type\", outputCol=\"offer_type_idx\"),\n",
    "    StringIndexer(inputCol=\"gender\", outputCol=\"gender_idx\")\n",
    "]\n",
    "\n",
    "for indexer in indexers:\n",
    "    model_data = indexer.fit(model_data).transform(model_data)\n",
    "\n",
    "# 11. Montar vetor de features\n",
    "assembler = VectorAssembler(\n",
    "    inputCols=[\"offer_type_idx\", \"min_value\", \"duration\", \"discount_value\", \"age\", \"credit_card_limit\", \"gender_idx\",\"credit_card_limit_is_null\",\n",
    "    \"channel_mobile\",\n",
    "    \"channel_email\",\n",
    "    \"channel_social\",\n",
    "    \"channel_web\",\n",
    "    \"dias_desde_registro\",\n",
    "    \"ano_registro\",\n",
    "    \"mes_registro\",\n",
    "    \"semana_registro\"],\n",
    "    outputCol=\"features\"\n",
    ")\n",
    "\n",
    "data = assembler.transform(model_data).select(\"features\", \"converted\")"
   ]
  },
  {
   "cell_type": "markdown",
   "metadata": {
    "application/vnd.databricks.v1+cell": {
     "cellMetadata": {
      "byteLimit": 2048000,
      "rowLimit": 10000
     },
     "inputWidgets": {},
     "nuid": "1afdc637-b37c-428e-aeae-ea87b95fae15",
     "showTitle": false,
     "tableResultSettingsMap": {},
     "title": ""
    }
   },
   "source": [
    "## Treino"
   ]
  },
  {
   "cell_type": "code",
   "execution_count": 0,
   "metadata": {
    "application/vnd.databricks.v1+cell": {
     "cellMetadata": {
      "byteLimit": 2048000,
      "rowLimit": 10000
     },
     "inputWidgets": {},
     "nuid": "e473da84-cbd6-425d-a7a4-566a32051e7b",
     "showTitle": false,
     "tableResultSettingsMap": {},
     "title": ""
    }
   },
   "outputs": [],
   "source": [
    "# Separação Treino teste\n",
    "train, test = data.randomSplit([0.8, 0.2], seed=42)\n",
    "\n",
    "# Modelo base\n",
    "rf = RandomForestClassifier(labelCol=\"converted\", featuresCol=\"features\", seed=42)\n"
   ]
  },
  {
   "cell_type": "markdown",
   "metadata": {
    "application/vnd.databricks.v1+cell": {
     "cellMetadata": {
      "byteLimit": 2048000,
      "rowLimit": 10000
     },
     "inputWidgets": {},
     "nuid": "a180f86e-49e9-40f0-8dee-9b49e5bb03d7",
     "showTitle": false,
     "tableResultSettingsMap": {},
     "title": ""
    }
   },
   "source": [
    "## Tuning do Modelo"
   ]
  },
  {
   "cell_type": "code",
   "execution_count": 0,
   "metadata": {
    "application/vnd.databricks.v1+cell": {
     "cellMetadata": {
      "byteLimit": 2048000,
      "rowLimit": 10000
     },
     "inputWidgets": {},
     "nuid": "4def2eac-bdf1-491d-8d1b-4c66afbbb28e",
     "showTitle": false,
     "tableResultSettingsMap": {},
     "title": ""
    }
   },
   "outputs": [
    {
     "output_type": "stream",
     "name": "stdout",
     "output_type": "stream",
     "text": [
      "Melhor numTrees: 200\nMelhor maxDepth: 10\nMelhor minInstancesPerNode: 5\n"
     ]
    }
   ],
   "source": [
    "# Simulação de Random Search: amostra aleatória de parâmetros\n",
    "n_random = 8  \n",
    "all_params = []\n",
    "\n",
    "for _ in range(n_random):\n",
    "    num_trees = random.choice([20, 50, 100, 200])\n",
    "    max_depth = random.choice([3, 5, 10, 15, 20])\n",
    "    min_instances = random.choice([1, 2, 5])\n",
    "\n",
    "    all_params.append({\n",
    "        rf.numTrees: num_trees,\n",
    "        rf.maxDepth: max_depth,\n",
    "        rf.minInstancesPerNode: min_instances\n",
    "    })\n",
    "\n",
    "# Criar um ParamGridBuilder manualmente\n",
    "grid = ParamGridBuilder()\n",
    "for param_set in all_params:\n",
    "    grid.addGrid(rf.numTrees, [param_set[rf.numTrees]])\n",
    "    grid.addGrid(rf.maxDepth, [param_set[rf.maxDepth]])\n",
    "    grid.addGrid(rf.minInstancesPerNode, [param_set[rf.minInstancesPerNode]])\n",
    "\n",
    "param_grid = grid.build()\n",
    "\n",
    "# Avaliador\n",
    "evaluator = BinaryClassificationEvaluator(labelCol=\"converted\", metricName=\"areaUnderROC\")\n",
    "\n",
    "# CrossValidator\n",
    "cv = CrossValidator(\n",
    "    estimator=rf,\n",
    "    estimatorParamMaps=param_grid,\n",
    "    evaluator=evaluator,\n",
    "    numFolds=3,\n",
    "    parallelism=2,  # Ajuste conforme sua infra\n",
    "    seed=42\n",
    ")\n",
    "\n",
    "# Treinamento com validação cruzada\n",
    "cv_model = cv.fit(data)\n",
    "\n",
    "# Melhor modelo\n",
    "best_model = cv_model.bestModel\n",
    "print(f\"Melhor numTrees: {best_model.getNumTrees}\")\n",
    "print(f\"Melhor maxDepth: {best_model.getOrDefault('maxDepth')}\")\n",
    "print(f\"Melhor minInstancesPerNode: {best_model.getOrDefault('minInstancesPerNode')}\")\n"
   ]
  },
  {
   "cell_type": "markdown",
   "metadata": {
    "application/vnd.databricks.v1+cell": {
     "cellMetadata": {
      "byteLimit": 2048000,
      "rowLimit": 10000
     },
     "inputWidgets": {},
     "nuid": "30b187a4-b0d4-4e45-a622-f52e48a7cd53",
     "showTitle": false,
     "tableResultSettingsMap": {},
     "title": ""
    }
   },
   "source": [
    "## Avaliação"
   ]
  },
  {
   "cell_type": "code",
   "execution_count": 0,
   "metadata": {
    "application/vnd.databricks.v1+cell": {
     "cellMetadata": {
      "byteLimit": 2048000,
      "rowLimit": 10000
     },
     "inputWidgets": {},
     "nuid": "ce03e8df-6ef5-4871-aeb9-506b5c88d5e5",
     "showTitle": false,
     "tableResultSettingsMap": {},
     "title": ""
    }
   },
   "outputs": [
    {
     "output_type": "stream",
     "name": "stdout",
     "output_type": "stream",
     "text": [
      "AUC: 0.7665\n"
     ]
    }
   ],
   "source": [
    "# AUC do melhor modelo\n",
    "auc = evaluator.evaluate(best_model.transform(data))\n",
    "print(f\"AUC: {auc:.4f}\")"
   ]
  },
  {
   "cell_type": "markdown",
   "metadata": {
    "application/vnd.databricks.v1+cell": {
     "cellMetadata": {
      "byteLimit": 2048000,
      "rowLimit": 10000
     },
     "inputWidgets": {},
     "nuid": "5e70c82a-f474-4273-8170-ccbb6909af59",
     "showTitle": false,
     "tableResultSettingsMap": {},
     "title": ""
    }
   },
   "source": [
    "## Resultado"
   ]
  },
  {
   "cell_type": "code",
   "execution_count": 0,
   "metadata": {
    "application/vnd.databricks.v1+cell": {
     "cellMetadata": {
      "byteLimit": 2048000,
      "rowLimit": 10000
     },
     "inputWidgets": {},
     "nuid": "48c8e5b5-f685-468f-8815-d568215f733e",
     "showTitle": false,
     "tableResultSettingsMap": {},
     "title": ""
    }
   },
   "outputs": [
    {
     "output_type": "stream",
     "name": "stdout",
     "output_type": "stream",
     "text": [
      "+--------------------------+----------------------+-------------------+\n|total_expected_conversions|total_expected_revenue|total_expected_cost|\n+--------------------------+----------------------+-------------------+\n|        14614.572428168532|     157207.1429556353| 32697.598588802775|\n+--------------------------+----------------------+-------------------+\n\n"
     ]
    }
   ],
   "source": [
    "# Dados únicos\n",
    "unique_clients = df.select(\"account_id\", \"age\", \"gender\", \"credit_card_limit\", \n",
    "                           \"credit_card_limit_is_null\", \"dias_desde_registro\", \n",
    "                           \"ano_registro\", \"mes_registro\", \"semana_registro\",\n",
    "                           \"channel_mobile\", \"channel_email\", \"channel_social\", \"channel_web\").distinct()\n",
    "\n",
    "unique_offers = df.select(\"offer_id\", \"offer_type\", \"min_value\", \"duration\", \"discount_value\").dropna().distinct()\n",
    "\n",
    "# Cross join\n",
    "candidates = unique_clients.crossJoin(unique_offers)\n",
    "\n",
    "# Substituir nulos\n",
    "candidates = candidates.fillna({\n",
    "    \"offer_type\": \"unknown\",\n",
    "    \"gender\": \"unknown\"\n",
    "})\n",
    "\n",
    "# Indexadores\n",
    "indexers = [\n",
    "    StringIndexer(inputCol=\"offer_type\", outputCol=\"offer_type_idx\"),\n",
    "    StringIndexer(inputCol=\"gender\", outputCol=\"gender_idx\")\n",
    "]\n",
    "\n",
    "for indexer in indexers:\n",
    "    candidates = indexer.fit(candidates).transform(candidates)\n",
    "\n",
    "# Vetor de features\n",
    "candidate_features = assembler.transform(candidates)\n",
    "\n",
    "from pyspark.sql.functions import udf\n",
    "from pyspark.sql.types import DoubleType\n",
    "\n",
    "predictions = best_model.transform(candidate_features)\n",
    "\n",
    "# Pegar probabilidade positiva\n",
    "get_prob = udf(lambda v: float(v[1]), DoubleType())\n",
    "predictions = predictions.withColumn(\"positive_probability\", get_prob(col(\"probability\")))\n",
    "\n",
    "from pyspark.sql.window import Window\n",
    "from pyspark.sql.functions import row_number\n",
    "\n",
    "windowSpec = Window.partitionBy(\"account_id\").orderBy(col(\"positive_probability\").desc())\n",
    "\n",
    "best_offers = predictions.withColumn(\"rank\", row_number().over(windowSpec)) \\\n",
    "    .filter(col(\"rank\") == 1)\n",
    "\n",
    "from pyspark.sql.functions import col\n",
    "\n",
    "impact = best_offers.withColumn(\"expected_conversion\", col(\"positive_probability\")) \\\n",
    "    .withColumn(\"expected_revenue\", col(\"expected_conversion\") * col(\"min_value\")) \\\n",
    "    .withColumn(\"expected_cost\", col(\"expected_conversion\") * col(\"discount_value\"))\n",
    "\n",
    "impact_summary = impact.agg(\n",
    "    {\"expected_conversion\": \"sum\", \n",
    "     \"expected_revenue\": \"sum\", \n",
    "     \"expected_cost\": \"sum\"}\n",
    ").withColumnRenamed(\"sum(expected_conversion)\", \"total_expected_conversions\") \\\n",
    " .withColumnRenamed(\"sum(expected_revenue)\", \"total_expected_revenue\") \\\n",
    " .withColumnRenamed(\"sum(expected_cost)\", \"total_expected_cost\")\n",
    "\n",
    "impact_summary.show()\n"
   ]
  },
  {
   "cell_type": "markdown",
   "metadata": {
    "application/vnd.databricks.v1+cell": {
     "cellMetadata": {
      "byteLimit": 2048000,
      "rowLimit": 10000
     },
     "inputWidgets": {},
     "nuid": "5b55c35d-a070-4dd8-b546-bd621206a57f",
     "showTitle": false,
     "tableResultSettingsMap": {},
     "title": ""
    }
   },
   "source": [
    "## Visualizações"
   ]
  },
  {
   "cell_type": "markdown",
   "metadata": {
    "application/vnd.databricks.v1+cell": {
     "cellMetadata": {
      "byteLimit": 2048000,
      "rowLimit": 10000
     },
     "inputWidgets": {},
     "nuid": "a1847ce8-3230-4e49-ac9a-b28b3a2ab176",
     "showTitle": false,
     "tableResultSettingsMap": {},
     "title": ""
    }
   },
   "source": [
    "### Feature Importance"
   ]
  },
  {
   "cell_type": "code",
   "execution_count": 0,
   "metadata": {
    "application/vnd.databricks.v1+cell": {
     "cellMetadata": {
      "byteLimit": 2048000,
      "rowLimit": 10000
     },
     "inputWidgets": {},
     "nuid": "0ee77d49-631f-4cbd-b329-c2c5bc9cb445",
     "showTitle": false,
     "tableResultSettingsMap": {},
     "title": ""
    }
   },
   "outputs": [
    {
     "output_type": "display_data",
     "data": {
      "image/png": "[encoded data removed]"
     },
     "metadata": {
      "application/vnd.databricks.v1+output": {
       "addedWidgets": {},
       "arguments": {},
       "data": "data:image/png;base64,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\n",
       "datasetInfos": [],
       "metadata": {},
       "removedWidgets": [],
       "type": "image"
      }
     },
     "output_type": "display_data"
    },
    {
     "output_type": "stream",
     "name": "stdout",
     "output_type": "stream",
     "text": [
      "dias_desde_registro: 0.2991\nano_registro: 0.1099\noffer_type_idx: 0.1029\ncredit_card_limit: 0.1025\nmin_value: 0.0920\nduration: 0.0712\nage: 0.0660\ndiscount_value: 0.0534\nsemana_registro: 0.0370\nmes_registro: 0.0201\ngender_idx: 0.0147\ncredit_card_limit_is_null: 0.0138\nchannel_social: 0.0093\nchannel_web: 0.0061\nchannel_mobile: 0.0019\nchannel_email: 0.0000\n"
     ]
    }
   ],
   "source": [
    "#  Obter importância das features\n",
    "importances = best_model.featureImportances\n",
    "feature_names = assembler.getInputCols()\n",
    "feature_importance_list = list(zip(feature_names, importances.toArray()))\n",
    "feature_importance_list = sorted(feature_importance_list, key=lambda x: x[1], reverse=True)\n",
    "\n",
    "#  Criar DataFrame\n",
    "importance_df = pd.DataFrame(feature_importance_list, columns=[\"feature\", \"importance\"])\n",
    "\n",
    "#  Plotar gráfico de barras das importâncias\n",
    "plt.figure(figsize=(12, 6))\n",
    "sns.barplot(data=importance_df, x=\"importance\", y=\"feature\", palette=\"viridis\")\n",
    "plt.title(\"Importância das Features - Modelo Random Forest\")\n",
    "plt.xlabel(\"Importância\")\n",
    "plt.ylabel(\"Features\")\n",
    "plt.tight_layout()\n",
    "plt.show()\n",
    "\n",
    "# Mostrar\n",
    "for name, score in feature_importance_list:\n",
    "    print(f\"{name}: {score:.4f}\")\n",
    "\n"
   ]
  },
  {
   "cell_type": "markdown",
   "metadata": {
    "application/vnd.databricks.v1+cell": {
     "cellMetadata": {
      "byteLimit": 2048000,
      "rowLimit": 10000
     },
     "inputWidgets": {},
     "nuid": "002acfc3-b89c-442a-acb3-5c458b3de261",
     "showTitle": false,
     "tableResultSettingsMap": {},
     "title": ""
    }
   },
   "source": [
    "### Taxas de conversão "
   ]
  },
  {
   "cell_type": "code",
   "execution_count": 0,
   "metadata": {
    "application/vnd.databricks.v1+cell": {
     "cellMetadata": {
      "byteLimit": 2048000,
      "rowLimit": 10000
     },
     "inputWidgets": {},
     "nuid": "e08357f6-afb1-4f35-85ca-00ff75bb1a83",
     "showTitle": false,
     "tableResultSettingsMap": {},
     "title": ""
    }
   },
   "outputs": [
    {
     "output_type": "display_data",
     "data": {
      "image/png": "[encoded data removed]"
     },
     "metadata": {
      "application/vnd.databricks.v1+output": {
       "addedWidgets": {},
       "arguments": {},
       "data": "data:image/png;base64,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\n",
       "datasetInfos": [],
       "metadata": {},
       "removedWidgets": [],
       "type": "image"
      }
     },
     "output_type": "display_data"
    },
    {
     "output_type": "display_data",
     "data": {
      "image/png": "[encoded data removed]"
     },
     "metadata": {
      "application/vnd.databricks.v1+output": {
       "addedWidgets": {},
       "arguments": {},
       "data": "data:image/png;base64,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\n",
       "datasetInfos": [],
       "metadata": {},
       "removedWidgets": [],
       "type": "image"
      }
     },
     "output_type": "display_data"
    }
   ],
   "source": [
    "# Calcular média de conversão por valor de gender_idx\n",
    "gender_stats = model_data.groupBy(\"gender\", \"gender_idx\").agg({\"converted\": \"mean\"}).toPandas()\n",
    "gender_stats = gender_stats.sort_values(\"gender_idx\")\n",
    "\n",
    "# Plotar\n",
    "plt.figure(figsize=(6, 4))\n",
    "sns.barplot(data=gender_stats, x=\"gender\", y=\"avg(converted)\", palette=\"coolwarm\")\n",
    "plt.title(\"Taxa de Conversão por Gênero\")\n",
    "plt.ylabel(\"Taxa de Conversão Média\")\n",
    "plt.xlabel(\"Gênero\")\n",
    "plt.ylim(0, 1)\n",
    "plt.tight_layout()\n",
    "plt.show()\n",
    "\n",
    "# Calcular média de conversão por offer_type_idx\n",
    "offer_stats = model_data.groupBy(\"offer_type\", \"offer_type_idx\").agg({\"converted\": \"mean\"}).toPandas()\n",
    "offer_stats = offer_stats.sort_values(\"offer_type_idx\")\n",
    "\n",
    "# Plotar\n",
    "plt.figure(figsize=(8, 4))\n",
    "sns.barplot(data=offer_stats, x=\"offer_type\", y=\"avg(converted)\", palette=\"mako\")\n",
    "plt.title(\"Taxa de Conversão por Tipo de Oferta\")\n",
    "plt.ylabel(\"Taxa de Conversão Média\")\n",
    "plt.xlabel(\"Tipo de Oferta\")\n",
    "plt.ylim(0, 1)\n",
    "plt.tight_layout()\n",
    "plt.show()\n"
   ]
  }
 ],
 "metadata": {
  "application/vnd.databricks.v1+notebook": {
   "computePreferences": null,
   "dashboards": [],
   "environmentMetadata": {
    "base_environment": "",
    "environment_version": "1"
   },
   "inputWidgetPreferences": null,
   "language": "python",
   "notebookMetadata": {
    "pythonIndentUnit": 4
   },
   "notebookName": "2_modeling.ipynb",
   "widgets": {}
  }
 },
 "nbformat": 4,
 "nbformat_minor": 0
}